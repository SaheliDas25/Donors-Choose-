{
  "nbformat": 4,
  "nbformat_minor": 0,
  "metadata": {
    "kernelspec": {
      "display_name": "Python 3",
      "language": "python",
      "name": "python3"
    },
    "language_info": {
      "codemirror_mode": {
        "name": "ipython",
        "version": 3
      },
      "file_extension": ".py",
      "mimetype": "text/x-python",
      "name": "python",
      "nbconvert_exporter": "python",
      "pygments_lexer": "ipython3",
      "version": "3.6.8"
    },
    "colab": {
      "name": "Preprocessing_data.ipynb",
      "provenance": [],
      "collapsed_sections": []
    }
  },
  "cells": [
    {
      "cell_type": "code",
      "metadata": {
        "id": "E_wMr9cswpNY"
      },
      "source": [
        "%matplotlib inline\n",
        "import warnings\n",
        "warnings.filterwarnings(\"ignore\")\n",
        "\n",
        "import pandas as pd\n",
        "import numpy as np\n",
        "from sklearn.feature_extraction.text import TfidfVectorizer\n",
        "from sklearn.feature_extraction.text import CountVectorizer\n",
        "\n",
        "\n",
        "import re\n",
        "# Tutorial about Python regular expressions: https://pymotw.com/2/re/\n",
        "\n",
        "from nltk.corpus import stopwords\n",
        "import pickle\n",
        "\n",
        "from tqdm import tqdm\n",
        "import os"
      ],
      "execution_count": null,
      "outputs": []
    },
    {
      "cell_type": "markdown",
      "metadata": {
        "id": "fueSrRGuwpNa"
      },
      "source": [
        "## 1. Reading Data"
      ]
    },
    {
      "cell_type": "code",
      "metadata": {
        "id": "Bn1ivYeDwpNb"
      },
      "source": [
        "project_data = pd.read_csv('train_data.csv', nrows=5000)\n",
        "resource_data = pd.read_csv('resources.csv')"
      ],
      "execution_count": null,
      "outputs": []
    },
    {
      "cell_type": "markdown",
      "metadata": {
        "id": "CJRR5EnEwpNg"
      },
      "source": [
        "# 2. Preprocessing Categorical Features: project_grade_category"
      ]
    },
    {
      "cell_type": "code",
      "metadata": {
        "id": "iG9z_UKswpNh",
        "outputId": "b6d9697e-4e7f-43a8-fe43-b0c8c7d91bef"
      },
      "source": [
        "project_data['project_grade_category'].value_counts()"
      ],
      "execution_count": null,
      "outputs": [
        {
          "output_type": "execute_result",
          "data": {
            "text/plain": [
              "Grades PreK-2    2002\n",
              "Grades 3-5       1729\n",
              "Grades 6-8        785\n",
              "Grades 9-12       484\n",
              "Name: project_grade_category, dtype: int64"
            ]
          },
          "metadata": {
            "tags": []
          },
          "execution_count": 5
        }
      ]
    },
    {
      "cell_type": "markdown",
      "metadata": {
        "id": "kExL8tAtwpNh"
      },
      "source": [
        "we need to remove the spaces, replace the '-' with '_' and convert all the letters to small"
      ]
    },
    {
      "cell_type": "code",
      "metadata": {
        "id": "IY4qFUecwpNi",
        "outputId": "517abc95-d5c7-4cc7-f86f-26665ee9fdee"
      },
      "source": [
        "# https://stackoverflow.com/questions/36383821/pandas-dataframe-apply-function-to-column-strings-based-on-other-column-value\n",
        "project_data['project_grade_category'] = project_data['project_grade_category'].str.replace(' ','_')\n",
        "project_data['project_grade_category'] = project_data['project_grade_category'].str.replace('-','_')\n",
        "project_data['project_grade_category'] = project_data['project_grade_category'].str.lower()\n",
        "project_data['project_grade_category'].value_counts()"
      ],
      "execution_count": null,
      "outputs": [
        {
          "output_type": "execute_result",
          "data": {
            "text/plain": [
              "grades_prek_2    2002\n",
              "grades_3_5       1729\n",
              "grades_6_8        785\n",
              "grades_9_12       484\n",
              "Name: project_grade_category, dtype: int64"
            ]
          },
          "metadata": {
            "tags": []
          },
          "execution_count": 6
        }
      ]
    },
    {
      "cell_type": "markdown",
      "metadata": {
        "id": "N7Uag4bywpNj"
      },
      "source": [
        "# 3. Preprocessing Categorical Features: project_subject_categories"
      ]
    },
    {
      "cell_type": "code",
      "metadata": {
        "scrolled": true,
        "id": "IfqX_muowpNk",
        "outputId": "cb0c4556-87c5-4ae5-878e-b1dece813eaf"
      },
      "source": [
        "project_data['project_subject_categories'].value_counts()"
      ],
      "execution_count": null,
      "outputs": [
        {
          "output_type": "execute_result",
          "data": {
            "text/plain": [
              "Literacy & Language                           1067\n",
              "Math & Science                                 795\n",
              "Literacy & Language, Math & Science            679\n",
              "Health & Sports                                509\n",
              "Music & The Arts                               233\n",
              "Literacy & Language, Special Needs             207\n",
              "Applied Learning                               164\n",
              "Special Needs                                  162\n",
              "Math & Science, Literacy & Language            101\n",
              "Applied Learning, Literacy & Language           97\n",
              "Applied Learning, Special Needs                 80\n",
              "Math & Science, Special Needs                   80\n",
              "Literacy & Language, Music & The Arts           79\n",
              "Math & Science, Music & The Arts                76\n",
              "History & Civics, Literacy & Language           65\n",
              "History & Civics                                63\n",
              "Health & Sports, Special Needs                  57\n",
              "Warmth, Care & Hunger                           53\n",
              "Math & Science, Applied Learning                52\n",
              "Applied Learning, Math & Science                44\n",
              "Literacy & Language, History & Civics           40\n",
              "Health & Sports, Literacy & Language            40\n",
              "Applied Learning, Music & The Arts              39\n",
              "Applied Learning, Health & Sports               29\n",
              "Literacy & Language, Applied Learning           24\n",
              "Math & Science, History & Civics                24\n",
              "Math & Science, Health & Sports                 23\n",
              "History & Civics, Math & Science                21\n",
              "History & Civics, Music & The Arts              17\n",
              "Health & Sports, Math & Science                 15\n",
              "Special Needs, Music & The Arts                 13\n",
              "History & Civics, Special Needs                  8\n",
              "Health & Sports, Applied Learning                8\n",
              "Health & Sports, Music & The Arts                8\n",
              "Applied Learning, History & Civics               6\n",
              "Music & The Arts, Special Needs                  6\n",
              "Health & Sports, History & Civics                3\n",
              "Health & Sports, Warmth, Care & Hunger           2\n",
              "History & Civics, Applied Learning               2\n",
              "Music & The Arts, History & Civics               2\n",
              "Music & The Arts, Warmth, Care & Hunger          1\n",
              "Literacy & Language, Warmth, Care & Hunger       1\n",
              "History & Civics, Health & Sports                1\n",
              "Music & The Arts, Applied Learning               1\n",
              "Special Needs, Health & Sports                   1\n",
              "Music & The Arts, Health & Sports                1\n",
              "Applied Learning, Warmth, Care & Hunger          1\n",
              "Name: project_subject_categories, dtype: int64"
            ]
          },
          "metadata": {
            "tags": []
          },
          "execution_count": 7
        }
      ]
    },
    {
      "cell_type": "markdown",
      "metadata": {
        "id": "jaUkOiz1wpNk"
      },
      "source": [
        ">remove spaces, 'the' <br>\n",
        "replace '&' with '\\_', and ',' with '_'"
      ]
    },
    {
      "cell_type": "code",
      "metadata": {
        "scrolled": true,
        "id": "s-amGn7iwpNl",
        "outputId": "7f29bacf-f4bc-4eab-c96b-45c1256f3bbe"
      },
      "source": [
        "project_data['project_subject_categories'] = project_data['project_subject_categories'].str.replace(' The ','')\n",
        "project_data['project_subject_categories'] = project_data['project_subject_categories'].str.replace(' ','')\n",
        "project_data['project_subject_categories'] = project_data['project_subject_categories'].str.replace('&','_')\n",
        "project_data['project_subject_categories'] = project_data['project_subject_categories'].str.replace(',','_')\n",
        "project_data['project_subject_categories'] = project_data['project_subject_categories'].str.lower()\n",
        "project_data['project_subject_categories'].value_counts()"
      ],
      "execution_count": null,
      "outputs": [
        {
          "output_type": "execute_result",
          "data": {
            "text/plain": [
              "literacy_language                       1067\n",
              "math_science                             795\n",
              "literacy_language_math_science           679\n",
              "health_sports                            509\n",
              "music_arts                               233\n",
              "literacy_language_specialneeds           207\n",
              "appliedlearning                          164\n",
              "specialneeds                             162\n",
              "math_science_literacy_language           101\n",
              "appliedlearning_literacy_language         97\n",
              "math_science_specialneeds                 80\n",
              "appliedlearning_specialneeds              80\n",
              "literacy_language_music_arts              79\n",
              "math_science_music_arts                   76\n",
              "history_civics_literacy_language          65\n",
              "history_civics                            63\n",
              "health_sports_specialneeds                57\n",
              "warmth_care_hunger                        53\n",
              "math_science_appliedlearning              52\n",
              "appliedlearning_math_science              44\n",
              "literacy_language_history_civics          40\n",
              "health_sports_literacy_language           40\n",
              "appliedlearning_music_arts                39\n",
              "appliedlearning_health_sports             29\n",
              "literacy_language_appliedlearning         24\n",
              "math_science_history_civics               24\n",
              "math_science_health_sports                23\n",
              "history_civics_math_science               21\n",
              "history_civics_music_arts                 17\n",
              "health_sports_math_science                15\n",
              "specialneeds_music_arts                   13\n",
              "health_sports_music_arts                   8\n",
              "history_civics_specialneeds                8\n",
              "health_sports_appliedlearning              8\n",
              "appliedlearning_history_civics             6\n",
              "music_arts_specialneeds                    6\n",
              "health_sports_history_civics               3\n",
              "health_sports_warmth_care_hunger           2\n",
              "history_civics_appliedlearning             2\n",
              "music_arts_history_civics                  2\n",
              "music_arts_health_sports                   1\n",
              "appliedlearning_warmth_care_hunger         1\n",
              "literacy_language_warmth_care_hunger       1\n",
              "music_arts_warmth_care_hunger              1\n",
              "music_arts_appliedlearning                 1\n",
              "specialneeds_health_sports                 1\n",
              "history_civics_health_sports               1\n",
              "Name: project_subject_categories, dtype: int64"
            ]
          },
          "metadata": {
            "tags": []
          },
          "execution_count": 8
        }
      ]
    },
    {
      "cell_type": "markdown",
      "metadata": {
        "id": "VUT4PdgBwpNm"
      },
      "source": [
        "# 4. Preprocessing Categorical Features: teacher_prefix"
      ]
    },
    {
      "cell_type": "code",
      "metadata": {
        "id": "h0VUTQW-wpNm",
        "outputId": "209981b9-4532-4345-f1b6-bc5cd24dbed6"
      },
      "source": [
        "project_data['teacher_prefix'].value_counts()"
      ],
      "execution_count": null,
      "outputs": [
        {
          "output_type": "execute_result",
          "data": {
            "text/plain": [
              "Mrs.       2560\n",
              "Ms.        1845\n",
              "Mr.         495\n",
              "Teacher     100\n",
              "Name: teacher_prefix, dtype: int64"
            ]
          },
          "metadata": {
            "tags": []
          },
          "execution_count": 9
        }
      ]
    },
    {
      "cell_type": "code",
      "metadata": {
        "id": "Zr6DNYylwpNo",
        "outputId": "087371ac-0bf5-415f-e524-be3e9ef0cca7"
      },
      "source": [
        "# check if we have any nan values are there\n",
        "print(project_data['teacher_prefix'].isnull().values.any())\n",
        "print(\"number of nan values\",project_data['teacher_prefix'].isnull().values.sum())"
      ],
      "execution_count": null,
      "outputs": [
        {
          "output_type": "stream",
          "text": [
            "False\n",
            "number of nan values 0\n"
          ],
          "name": "stdout"
        }
      ]
    },
    {
      "cell_type": "markdown",
      "metadata": {
        "id": "sEGb-HiVwpNp"
      },
      "source": [
        ">numebr of missing values are very less in number, we can replace it with Mrs. as most of the projects are submitted by Mrs."
      ]
    },
    {
      "cell_type": "code",
      "metadata": {
        "id": "xQaxFdsVwpNp"
      },
      "source": [
        "project_data['teacher_prefix']=project_data['teacher_prefix'].fillna('Mrs.')"
      ],
      "execution_count": null,
      "outputs": []
    },
    {
      "cell_type": "code",
      "metadata": {
        "id": "jDlsZ0oiwpNq",
        "outputId": "812d37de-ef7b-4689-a2b1-9a5812ad11de"
      },
      "source": [
        "project_data['teacher_prefix'].value_counts()"
      ],
      "execution_count": null,
      "outputs": [
        {
          "output_type": "execute_result",
          "data": {
            "text/plain": [
              "Mrs.       2560\n",
              "Ms.        1845\n",
              "Mr.         495\n",
              "Teacher     100\n",
              "Name: teacher_prefix, dtype: int64"
            ]
          },
          "metadata": {
            "tags": []
          },
          "execution_count": 12
        }
      ]
    },
    {
      "cell_type": "markdown",
      "metadata": {
        "id": "pXPZxJHDwpNq"
      },
      "source": [
        ">Remove '.' <br>\n",
        ">convert all the chars to small"
      ]
    },
    {
      "cell_type": "code",
      "metadata": {
        "id": "QY649VqnwpNr",
        "outputId": "be8cf8d3-9aa1-4c5d-f8d3-568d85f39478"
      },
      "source": [
        "project_data['teacher_prefix'] = project_data['teacher_prefix'].str.replace('.','')\n",
        "project_data['teacher_prefix'] = project_data['teacher_prefix'].str.lower()\n",
        "project_data['teacher_prefix'].value_counts()"
      ],
      "execution_count": null,
      "outputs": [
        {
          "output_type": "execute_result",
          "data": {
            "text/plain": [
              "mrs        2560\n",
              "ms         1845\n",
              "mr          495\n",
              "teacher     100\n",
              "Name: teacher_prefix, dtype: int64"
            ]
          },
          "metadata": {
            "tags": []
          },
          "execution_count": 13
        }
      ]
    },
    {
      "cell_type": "markdown",
      "metadata": {
        "id": "TQODjQShwpNs"
      },
      "source": [
        "# 5. Preprocessing Categorical Features: project_subject_subcategories"
      ]
    },
    {
      "cell_type": "code",
      "metadata": {
        "scrolled": true,
        "id": "9rz3L01nwpNs",
        "outputId": "773efc40-4b9f-446c-95bc-4d95cfa31fe1"
      },
      "source": [
        "project_data['project_subject_subcategories'].value_counts()"
      ],
      "execution_count": null,
      "outputs": [
        {
          "output_type": "execute_result",
          "data": {
            "text/plain": [
              "Literacy                                        449\n",
              "Literacy, Mathematics                           368\n",
              "Literature & Writing, Mathematics               293\n",
              "Literacy, Literature & Writing                  234\n",
              "Mathematics                                     232\n",
              "Literature & Writing                            216\n",
              "Health & Wellness                               179\n",
              "Special Needs                                   162\n",
              "Applied Sciences, Mathematics                   156\n",
              "Literacy, Special Needs                         140\n",
              "Applied Sciences                                124\n",
              "Gym & Fitness, Health & Wellness                112\n",
              "Visual Arts                                      94\n",
              "ESL, Literacy                                    91\n",
              "Music                                            65\n",
              "Literature & Writing, Special Needs              60\n",
              "Gym & Fitness                                    58\n",
              "Team Sports                                      56\n",
              "Applied Sciences, Environmental Science          53\n",
              "Environmental Science                            53\n",
              "Warmth, Care & Hunger                            53\n",
              "Mathematics, Special Needs                       48\n",
              "Health & Wellness, Special Needs                 46\n",
              "Music, Performing Arts                           45\n",
              "Environmental Science, Health & Life Science     45\n",
              "Environmental Science, Mathematics               42\n",
              "ESL, Literature & Writing                        38\n",
              "Early Development, Special Needs                 38\n",
              "Literature & Writing, Visual Arts                38\n",
              "Gym & Fitness, Team Sports                       37\n",
              "                                               ... \n",
              "Applied Sciences, Foreign Languages               1\n",
              "Nutrition Education, Other                        1\n",
              "Civics & Government, Mathematics                  1\n",
              "Civics & Government, Environmental Science        1\n",
              "College & Career Prep, Social Sciences            1\n",
              "Other, Performing Arts                            1\n",
              "History & Geography, Music                        1\n",
              "Community Service, Social Sciences                1\n",
              "ESL, History & Geography                          1\n",
              "Character Education, Economics                    1\n",
              "Music, Parent Involvement                         1\n",
              "Mathematics, Performing Arts                      1\n",
              "Early Development, Parent Involvement             1\n",
              "Community Service, Gym & Fitness                  1\n",
              "Environmental Science, Social Sciences            1\n",
              "Civics & Government                               1\n",
              "Literacy, Warmth, Care & Hunger                   1\n",
              "Economics, Special Needs                          1\n",
              "Health & Life Science, Social Sciences            1\n",
              "Gym & Fitness, Parent Involvement                 1\n",
              "Music, Social Sciences                            1\n",
              "Early Development, Team Sports                    1\n",
              "Community Service, Health & Life Science          1\n",
              "Foreign Languages, Health & Life Science          1\n",
              "Performing Arts, Social Sciences                  1\n",
              "Early Development, Nutrition Education            1\n",
              "Civics & Government, Team Sports                  1\n",
              "Civics & Government, Special Needs                1\n",
              "Health & Life Science, Music                      1\n",
              "Other, Parent Involvement                         1\n",
              "Name: project_subject_subcategories, Length: 248, dtype: int64"
            ]
          },
          "metadata": {
            "tags": []
          },
          "execution_count": 14
        }
      ]
    },
    {
      "cell_type": "markdown",
      "metadata": {
        "id": "ltv0Fn96wpNt"
      },
      "source": [
        "> same process we did in project_subject_categories"
      ]
    },
    {
      "cell_type": "code",
      "metadata": {
        "scrolled": true,
        "id": "ajGIkbA1wpNt",
        "outputId": "e660733b-98ed-48e7-d8b8-fb74df9731cf"
      },
      "source": [
        "project_data['project_subject_subcategories'] = project_data['project_subject_subcategories'].str.replace(' The ','')\n",
        "project_data['project_subject_subcategories'] = project_data['project_subject_subcategories'].str.replace(' ','')\n",
        "project_data['project_subject_subcategories'] = project_data['project_subject_subcategories'].str.replace('&','_')\n",
        "project_data['project_subject_subcategories'] = project_data['project_subject_subcategories'].str.replace(',','_')\n",
        "project_data['project_subject_subcategories'] = project_data['project_subject_subcategories'].str.lower()\n",
        "project_data['project_subject_subcategories'].value_counts()"
      ],
      "execution_count": null,
      "outputs": [
        {
          "output_type": "execute_result",
          "data": {
            "text/plain": [
              "literacy                                   449\n",
              "literacy_mathematics                       368\n",
              "literature_writing_mathematics             293\n",
              "literacy_literature_writing                234\n",
              "mathematics                                232\n",
              "literature_writing                         216\n",
              "health_wellness                            179\n",
              "specialneeds                               162\n",
              "appliedsciences_mathematics                156\n",
              "literacy_specialneeds                      140\n",
              "appliedsciences                            124\n",
              "gym_fitness_health_wellness                112\n",
              "visualarts                                  94\n",
              "esl_literacy                                91\n",
              "music                                       65\n",
              "literature_writing_specialneeds             60\n",
              "gym_fitness                                 58\n",
              "teamsports                                  56\n",
              "appliedsciences_environmentalscience        53\n",
              "environmentalscience                        53\n",
              "warmth_care_hunger                          53\n",
              "mathematics_specialneeds                    48\n",
              "health_wellness_specialneeds                46\n",
              "environmentalscience_health_lifescience     45\n",
              "music_performingarts                        45\n",
              "environmentalscience_mathematics            42\n",
              "esl_literature_writing                      38\n",
              "literature_writing_visualarts               38\n",
              "earlydevelopment_specialneeds               38\n",
              "gym_fitness_teamsports                      37\n",
              "                                          ... \n",
              "appliedsciences_health_wellness              1\n",
              "nutritioneducation_specialneeds              1\n",
              "mathematics_performingarts                   1\n",
              "earlydevelopment_music                       1\n",
              "gym_fitness_history_geography                1\n",
              "other_performingarts                         1\n",
              "civics_government                            1\n",
              "appliedsciences_communityservice             1\n",
              "mathematics_teamsports                       1\n",
              "extracurricular_literature_writing           1\n",
              "literacy_warmth_care_hunger                  1\n",
              "esl_music                                    1\n",
              "parentinvolvement_socialsciences             1\n",
              "communityservice_gym_fitness                 1\n",
              "performingarts_teamsports                    1\n",
              "earlydevelopment_nutritioneducation          1\n",
              "economics_history_geography                  1\n",
              "charactereducation_warmth_care_hunger        1\n",
              "esl_history_geography                        1\n",
              "extracurricular_mathematics                  1\n",
              "gym_fitness_parentinvolvement                1\n",
              "health_wellness_performingarts               1\n",
              "civics_government_health_lifescience         1\n",
              "environmentalscience_financialliteracy       1\n",
              "music_socialsciences                         1\n",
              "nutritioneducation_other                     1\n",
              "charactereducation_economics                 1\n",
              "health_lifescience_music                     1\n",
              "civics_government_communityservice           1\n",
              "gym_fitness_music                            1\n",
              "Name: project_subject_subcategories, Length: 248, dtype: int64"
            ]
          },
          "metadata": {
            "tags": []
          },
          "execution_count": 15
        }
      ]
    },
    {
      "cell_type": "markdown",
      "metadata": {
        "id": "PTn2F9CfwpNu"
      },
      "source": [
        "# 6. Preprocessing Categorical Features: school_state"
      ]
    },
    {
      "cell_type": "code",
      "metadata": {
        "scrolled": true,
        "id": "CMXPeiE8wpNv",
        "outputId": "f86ecf72-964b-47b3-bbbc-816c72540d64"
      },
      "source": [
        "project_data['school_state'].value_counts()"
      ],
      "execution_count": null,
      "outputs": [
        {
          "output_type": "execute_result",
          "data": {
            "text/plain": [
              "CA    707\n",
              "TX    352\n",
              "NY    342\n",
              "FL    261\n",
              "NC    246\n",
              "SC    191\n",
              "IL    184\n",
              "GA    164\n",
              "PA    151\n",
              "MI    151\n",
              "OH    122\n",
              "OK    120\n",
              "MO    117\n",
              "MA    115\n",
              "LA    114\n",
              "IN    113\n",
              "AZ     99\n",
              "NJ     99\n",
              "WA     97\n",
              "VA     90\n",
              "TN     85\n",
              "AL     84\n",
              "CT     78\n",
              "UT     76\n",
              "WI     72\n",
              "MD     69\n",
              "OR     64\n",
              "KY     59\n",
              "CO     58\n",
              "NV     53\n",
              "AR     52\n",
              "MN     48\n",
              "MS     46\n",
              "KS     30\n",
              "IA     29\n",
              "ID     29\n",
              "HI     28\n",
              "DC     23\n",
              "NM     22\n",
              "WV     21\n",
              "NE     19\n",
              "ME     19\n",
              "AK     17\n",
              "RI     16\n",
              "SD     16\n",
              "NH     13\n",
              "DE     11\n",
              "ND     11\n",
              "WY      9\n",
              "MT      6\n",
              "VT      2\n",
              "Name: school_state, dtype: int64"
            ]
          },
          "metadata": {
            "tags": []
          },
          "execution_count": 16
        }
      ]
    },
    {
      "cell_type": "markdown",
      "metadata": {
        "id": "GSZRmfXVwpNv"
      },
      "source": [
        ">convert all of them into small letters"
      ]
    },
    {
      "cell_type": "code",
      "metadata": {
        "scrolled": true,
        "id": "j34EHwgLwpNw",
        "outputId": "d4f05539-5651-4ce7-8e4b-2a1147c74e5a"
      },
      "source": [
        "project_data['school_state'] = project_data['school_state'].str.lower()\n",
        "project_data['school_state'].value_counts()"
      ],
      "execution_count": null,
      "outputs": [
        {
          "output_type": "execute_result",
          "data": {
            "text/plain": [
              "ca    707\n",
              "tx    352\n",
              "ny    342\n",
              "fl    261\n",
              "nc    246\n",
              "sc    191\n",
              "il    184\n",
              "ga    164\n",
              "mi    151\n",
              "pa    151\n",
              "oh    122\n",
              "ok    120\n",
              "mo    117\n",
              "ma    115\n",
              "la    114\n",
              "in    113\n",
              "az     99\n",
              "nj     99\n",
              "wa     97\n",
              "va     90\n",
              "tn     85\n",
              "al     84\n",
              "ct     78\n",
              "ut     76\n",
              "wi     72\n",
              "md     69\n",
              "or     64\n",
              "ky     59\n",
              "co     58\n",
              "nv     53\n",
              "ar     52\n",
              "mn     48\n",
              "ms     46\n",
              "ks     30\n",
              "ia     29\n",
              "id     29\n",
              "hi     28\n",
              "dc     23\n",
              "nm     22\n",
              "wv     21\n",
              "me     19\n",
              "ne     19\n",
              "ak     17\n",
              "ri     16\n",
              "sd     16\n",
              "nh     13\n",
              "de     11\n",
              "nd     11\n",
              "wy      9\n",
              "mt      6\n",
              "vt      2\n",
              "Name: school_state, dtype: int64"
            ]
          },
          "metadata": {
            "tags": []
          },
          "execution_count": 17
        }
      ]
    },
    {
      "cell_type": "markdown",
      "metadata": {
        "id": "2eDEWiXPwpNw"
      },
      "source": [
        "# 7. Preprocessing Categorical Features: project_title"
      ]
    },
    {
      "cell_type": "code",
      "metadata": {
        "id": "CDBgizg_wpNx"
      },
      "source": [
        "# https://stackoverflow.com/a/47091490/4084039\n",
        "import re\n",
        "\n",
        "def decontracted(phrase):\n",
        "    # specific\n",
        "    phrase = re.sub(r\"won't\", \"will not\", phrase)\n",
        "    phrase = re.sub(r\"can\\'t\", \"can not\", phrase)\n",
        "\n",
        "    # general\n",
        "    phrase = re.sub(r\"n\\'t\", \" not\", phrase)\n",
        "    phrase = re.sub(r\"\\'re\", \" are\", phrase)\n",
        "    phrase = re.sub(r\"\\'s\", \" is\", phrase)\n",
        "    phrase = re.sub(r\"\\'d\", \" would\", phrase)\n",
        "    phrase = re.sub(r\"\\'ll\", \" will\", phrase)\n",
        "    phrase = re.sub(r\"\\'t\", \" not\", phrase)\n",
        "    phrase = re.sub(r\"\\'ve\", \" have\", phrase)\n",
        "    phrase = re.sub(r\"\\'m\", \" am\", phrase)\n",
        "    return phrase"
      ],
      "execution_count": null,
      "outputs": []
    },
    {
      "cell_type": "code",
      "metadata": {
        "id": "Jr1yN98QwpNx"
      },
      "source": [
        "# https://gist.github.com/sebleier/554280\n",
        "# we are removing the words from the stop words list: 'no', 'nor', 'not'\n",
        "stopwords= ['i', 'me', 'my', 'myself', 'we', 'our', 'ours', 'ourselves', 'you', \"you're\", \"you've\",\\\n",
        "            \"you'll\", \"you'd\", 'your', 'yours', 'yourself', 'yourselves', 'he', 'him', 'his', 'himself', \\\n",
        "            'she', \"she's\", 'her', 'hers', 'herself', 'it', \"it's\", 'its', 'itself', 'they', 'them', 'their',\\\n",
        "            'theirs', 'themselves', 'what', 'which', 'who', 'whom', 'this', 'that', \"that'll\", 'these', 'those', \\\n",
        "            'am', 'is', 'are', 'was', 'were', 'be', 'been', 'being', 'have', 'has', 'had', 'having', 'do', 'does', \\\n",
        "            'did', 'doing', 'a', 'an', 'the', 'and', 'but', 'if', 'or', 'because', 'as', 'until', 'while', 'of', \\\n",
        "            'at', 'by', 'for', 'with', 'about', 'against', 'between', 'into', 'through', 'during', 'before', 'after',\\\n",
        "            'above', 'below', 'to', 'from', 'up', 'down', 'in', 'out', 'on', 'off', 'over', 'under', 'again', 'further',\\\n",
        "            'then', 'once', 'here', 'there', 'when', 'where', 'why', 'how', 'all', 'any', 'both', 'each', 'few', 'more',\\\n",
        "            'most', 'other', 'some', 'such', 'only', 'own', 'same', 'so', 'than', 'too', 'very', \\\n",
        "            's', 't', 'can', 'will', 'just', 'don', \"don't\", 'should', \"should've\", 'now', 'd', 'll', 'm', 'o', 're', \\\n",
        "            've', 'y', 'ain', 'aren', \"aren't\", 'couldn', \"couldn't\", 'didn', \"didn't\", 'doesn', \"doesn't\", 'hadn',\\\n",
        "            \"hadn't\", 'hasn', \"hasn't\", 'haven', \"haven't\", 'isn', \"isn't\", 'ma', 'mightn', \"mightn't\", 'mustn',\\\n",
        "            \"mustn't\", 'needn', \"needn't\", 'shan', \"shan't\", 'shouldn', \"shouldn't\", 'wasn', \"wasn't\", 'weren', \"weren't\", \\\n",
        "            'won', \"won't\", 'wouldn', \"wouldn't\"]"
      ],
      "execution_count": null,
      "outputs": []
    },
    {
      "cell_type": "code",
      "metadata": {
        "id": "S9aLakQGwpNy",
        "outputId": "7c77b558-33ab-403a-a7fe-edc9e105eb91"
      },
      "source": [
        "project_data['project_title'].head(5)"
      ],
      "execution_count": null,
      "outputs": [
        {
          "output_type": "execute_result",
          "data": {
            "text/plain": [
              "0     Educational Support for English Learners at Home\n",
              "1                Wanted: Projector for Hungry Learners\n",
              "2    Soccer Equipment for AWESOME Middle School Stu...\n",
              "3                               Techie Kindergarteners\n",
              "4                               Interactive Math Tools\n",
              "Name: project_title, dtype: object"
            ]
          },
          "metadata": {
            "tags": []
          },
          "execution_count": 20
        }
      ]
    },
    {
      "cell_type": "code",
      "metadata": {
        "id": "Pa4SlbY0wpNy",
        "outputId": "15bb6b2c-d334-4a21-895a-1ab79cdb4dbe"
      },
      "source": [
        "print(\"printing some random reviews\")\n",
        "print(9, project_data['project_title'].values[9])\n",
        "print(34, project_data['project_title'].values[34])\n",
        "print(147, project_data['project_title'].values[147])"
      ],
      "execution_count": null,
      "outputs": [
        {
          "output_type": "stream",
          "text": [
            "printing some random reviews\n",
            "9 Just For the Love of Reading--\\r\\nPure Pleasure\n",
            "34 \\\"Have A Ball!!!\\\"\n",
            "147 Who needs a Chromebook?\\r\\nWE DO!!\n"
          ],
          "name": "stdout"
        }
      ]
    },
    {
      "cell_type": "code",
      "metadata": {
        "id": "BNXjBIFnwpNz"
      },
      "source": [
        "# Combining all the above stundents \n",
        "from tqdm import tqdm\n",
        "def preprocess_text(text_data):\n",
        "    preprocessed_text = []\n",
        "    # tqdm is for printing the status bar\n",
        "    for sentance in tqdm(text_data):\n",
        "        sent = decontracted(sentance)\n",
        "        sent = sent.replace('\\\\r', ' ')\n",
        "        sent = sent.replace('\\\\n', ' ')\n",
        "        sent = sent.replace('\\\\\"', ' ')\n",
        "        sent = re.sub('[^A-Za-z0-9]+', ' ', sent)\n",
        "        # https://gist.github.com/sebleier/554280\n",
        "        sent = ' '.join(e for e in sent.split() if e.lower() not in stopwords)\n",
        "        preprocessed_text.append(sent.lower().strip())\n",
        "    return preprocessed_text"
      ],
      "execution_count": null,
      "outputs": []
    },
    {
      "cell_type": "code",
      "metadata": {
        "id": "AhXwnA5TwpNz",
        "outputId": "f0259e50-bab7-4e5c-b21f-cf0201aa9f77"
      },
      "source": [
        "preprocessed_titles = preprocess_text(project_data['project_title'].values)"
      ],
      "execution_count": null,
      "outputs": [
        {
          "output_type": "stream",
          "text": [
            "100%|███████████████████████████████████████████████████████████████████████████| 5000/5000 [00:00<00:00, 41083.73it/s]\n"
          ],
          "name": "stderr"
        }
      ]
    },
    {
      "cell_type": "code",
      "metadata": {
        "id": "HFtRntOcwpN0",
        "outputId": "6ef6df5c-5a81-462b-a662-c4a3a82a3109"
      },
      "source": [
        "print(\"printing some random reviews\")\n",
        "print(9, preprocessed_titles[9])\n",
        "print(34, preprocessed_titles[34])\n",
        "print(147, preprocessed_titles[147])"
      ],
      "execution_count": null,
      "outputs": [
        {
          "output_type": "stream",
          "text": [
            "printing some random reviews\n",
            "9 love reading pure pleasure\n",
            "34 ball\n",
            "147 needs chromebook\n"
          ],
          "name": "stdout"
        }
      ]
    },
    {
      "cell_type": "markdown",
      "metadata": {
        "id": "19jTHR2ZwpN1"
      },
      "source": [
        "# 8. Preprocessing Categorical Features: essay"
      ]
    },
    {
      "cell_type": "code",
      "metadata": {
        "id": "YXf1ePLWwpN1"
      },
      "source": [
        "# merge two column text dataframe: \n",
        "project_data[\"essay\"] = project_data[\"project_essay_1\"].map(str) +\\\n",
        "                        project_data[\"project_essay_2\"].map(str) + \\\n",
        "                        project_data[\"project_essay_3\"].map(str) + \\\n",
        "                        project_data[\"project_essay_4\"].map(str)"
      ],
      "execution_count": null,
      "outputs": []
    },
    {
      "cell_type": "code",
      "metadata": {
        "scrolled": true,
        "id": "i3j8DosxwpN2",
        "outputId": "161022a3-c41e-4bf0-eeb8-def4dfb74681"
      },
      "source": [
        "print(\"printing some random essay\")\n",
        "print(9, project_data['essay'].values[9])\n",
        "print('-'*50)\n",
        "print(34, project_data['essay'].values[34])\n",
        "print('-'*50)\n",
        "print(147, project_data['essay'].values[147])"
      ],
      "execution_count": null,
      "outputs": [
        {
          "output_type": "stream",
          "text": [
            "printing some random essay\n",
            "9 Over 95% of my students are on free or reduced lunch.  I have a few who are homeless, but despite that, they come to school with an eagerness to learn.  My students are inquisitive eager learners who  embrace the challenge of not having great books and other resources  every day.  Many of them are not afforded the opportunity to engage with these big colorful pages of a book on a regular basis at home and they don't travel to the public library.  \\r\\nIt is my duty as a teacher to do all I can to provide each student an opportunity to succeed in every aspect of life. \\r\\nReading is Fundamental! My students will read these books over and over again while boosting their comprehension skills. These books will be used for read alouds, partner reading and for Independent reading. \\r\\nThey will engage in reading to build their \\\"Love for Reading\\\" by reading for pure enjoyment. They will be introduced to some new authors as well as some old favorites. I want my students to be ready for the 21st Century and know the pleasure of holding a good hard back book in hand. There's nothing like a good book to read!  \\r\\nMy students will soar in Reading, and more because of your consideration and generous funding contribution. This will help build stamina and prepare for 3rd grade. Thank you so much for reading our proposal!nannan\n",
            "--------------------------------------------------\n",
            "34 My students mainly come from extremely low-income families, and the majority of them come from homes where both parents work full time. Most of my students are at school from 7:30 am to 6:00 pm (2:30 to 6:00 pm in the after-school program), and they all receive free and reduced meals for breakfast and lunch. \\r\\n\\r\\n\\r\\nI want my students to feel  as comfortable in my classroom as they do at home. Many of my students take on multiple roles both at home as well as in school. They are sometimes the caretakers of younger siblings, cooks, babysitters, academics, friends, and most of all, they are developing who they are going to become as adults.  I consider it an essential part of my job to model helping others gain knowledge in a positive manner. As a result, I have a community of students who love helping each other in and outside of the classroom. They consistently look for opportunities to support each other's learning in a kind and helpful way.I am excited to be experimenting with alternative seating in my classroom this school year. Studies have shown that giving students the option of where they sit in a classroom increases focus as well as motivation.  \\r\\n\\r\\nBy allowing students choice in the classroom, they are able to explore and create in a welcoming environment. Alternative classroom seating has been experimented with more frequently in recent years. I believe (along with many others), that every child learns differently. This does not only apply to how multiplication is memorized, or a paper is written, but applies to the space in which they are asked to work. I have had students in the past ask \\\"Can I work in the library? Can I work on the carpet?\\\" My answer was always, \\\"As long as you're learning, you can work wherever you want!\\\" \\r\\n\\r\\nWith the yoga balls and the lap-desks, I will be able to increase the options for seating in my classroom and expand its imaginable space.nannan\n",
            "--------------------------------------------------\n",
            "147 My students are eager to learn and make their mark on the world.\\r\\n\\r\\nThey come from a Title 1 school and need extra love.\\r\\n\\r\\nMy fourth grade students are in a high poverty area and still come to school every day to get their education. I am trying to make it fun and educational for them so they can get the most out of their schooling. I created a caring environment for the students to bloom! They deserve the best.\\r\\nThank you!\\r\\nI am requesting 1 Chromebook to access online interventions, differentiate instruction, and get extra practice. The Chromebook will be used to supplement ELA and math instruction. Students will play ELA and math games that are engaging and fun, as well as participate in assignments online. This in turn will help my students improve their skills. Having a Chromebook in the classroom would not only allow students to use the programs at their own pace, but would ensure more students are getting adequate time to use the programs. The online programs have been especially beneficial to my students with special needs. They are able to work at their level as well as be challenged with some different materials. This is making these students more confident in their abilities.\\r\\n\\r\\nThe Chromebook would allow my students to have daily access to computers and increase their computing skills.\\r\\nThis will change their lives for the better as they become more successful in school. Having access to technology in the classroom would help bridge the achievement gap.nannan\n"
          ],
          "name": "stdout"
        }
      ]
    },
    {
      "cell_type": "code",
      "metadata": {
        "id": "otYQ-hv2wpN2",
        "outputId": "4ebf8899-faab-4752-db39-483e55e660a5"
      },
      "source": [
        "preprocessed_essays = preprocess_text(project_data['essay'].values)"
      ],
      "execution_count": null,
      "outputs": [
        {
          "output_type": "stream",
          "text": [
            "100%|████████████████████████████████████████████████████████████████████████████| 5000/5000 [00:02<00:00, 1810.52it/s]\n"
          ],
          "name": "stderr"
        }
      ]
    },
    {
      "cell_type": "code",
      "metadata": {
        "scrolled": true,
        "id": "bRiQed-wwpN3",
        "outputId": "d8813ca0-b3d7-4ad1-96fb-a7c3ca31a8d2"
      },
      "source": [
        "print(\"printing some random essay\")\n",
        "print(9, preprocessed_essays[9])\n",
        "print('-'*50)\n",
        "print(34, preprocessed_essays[34])\n",
        "print('-'*50)\n",
        "print(147, preprocessed_essays[147])"
      ],
      "execution_count": null,
      "outputs": [
        {
          "output_type": "stream",
          "text": [
            "printing some random reviews\n",
            "9 95 students free reduced lunch homeless despite come school eagerness learn students inquisitive eager learners embrace challenge not great books resources every day many not afforded opportunity engage big colorful pages book regular basis home not travel public library duty teacher provide student opportunity succeed every aspect life reading fundamental students read books boosting comprehension skills books used read alouds partner reading independent reading engage reading build love reading reading pure enjoyment introduced new authors well old favorites want students ready 21st century know pleasure holding good hard back book hand nothing like good book read students soar reading consideration generous funding contribution help build stamina prepare 3rd grade thank much reading proposal nannan\n",
            "--------------------------------------------------\n",
            "34 students mainly come extremely low income families majority come homes parents work full time students school 7 30 6 00 pm 2 30 6 00 pm school program receive free reduced meals breakfast lunch want students feel comfortable classroom home many students take multiple roles home well school sometimes caretakers younger siblings cooks babysitters academics friends developing going become adults consider essential part job model helping others gain knowledge positive manner result community students love helping outside classroom consistently look opportunities support learning kind helpful way excited experimenting alternative seating classroom school year studies shown giving students option sit classroom increases focus well motivation allowing students choice classroom able explore create welcoming environment alternative classroom seating experimented frequently recent years believe along many others every child learns differently not apply multiplication memorized paper written applies space asked work students past ask work library work carpet answer always long learning work wherever want yoga balls lap desks able increase options seating classroom expand imaginable space nannan\n",
            "--------------------------------------------------\n",
            "147 students eager learn make mark world come title 1 school need extra love fourth grade students high poverty area still come school every day get education trying make fun educational get schooling created caring environment students bloom deserve best thank requesting 1 chromebook access online interventions differentiate instruction get extra practice chromebook used supplement ela math instruction students play ela math games engaging fun well participate assignments online turn help students improve skills chromebook classroom would not allow students use programs pace would ensure students getting adequate time use programs online programs especially beneficial students special needs able work level well challenged different materials making students confident abilities chromebook would allow students daily access computers increase computing skills change lives better become successful school access technology classroom would help bridge achievement gap nannan\n"
          ],
          "name": "stdout"
        }
      ]
    },
    {
      "cell_type": "markdown",
      "metadata": {
        "id": "mqA1DGMswpN3"
      },
      "source": [
        "# 8. Preprocessing Numerical Values: price"
      ]
    },
    {
      "cell_type": "code",
      "metadata": {
        "id": "knymAdXlwpN4",
        "outputId": "91feeb84-84fb-40b1-85fc-ce2cf3e8a85c"
      },
      "source": [
        "# https://stackoverflow.com/questions/22407798/how-to-reset-a-dataframes-indexes-for-all-groups-in-one-step\n",
        "price_data = resource_data.groupby('id').agg({'price':'sum', 'quantity':'sum'}).reset_index()\n",
        "price_data.head(2)"
      ],
      "execution_count": null,
      "outputs": [
        {
          "output_type": "execute_result",
          "data": {
            "text/html": [
              "<div>\n",
              "<style scoped>\n",
              "    .dataframe tbody tr th:only-of-type {\n",
              "        vertical-align: middle;\n",
              "    }\n",
              "\n",
              "    .dataframe tbody tr th {\n",
              "        vertical-align: top;\n",
              "    }\n",
              "\n",
              "    .dataframe thead th {\n",
              "        text-align: right;\n",
              "    }\n",
              "</style>\n",
              "<table border=\"1\" class=\"dataframe\">\n",
              "  <thead>\n",
              "    <tr style=\"text-align: right;\">\n",
              "      <th></th>\n",
              "      <th>id</th>\n",
              "      <th>price</th>\n",
              "      <th>quantity</th>\n",
              "    </tr>\n",
              "  </thead>\n",
              "  <tbody>\n",
              "    <tr>\n",
              "      <th>0</th>\n",
              "      <td>p000001</td>\n",
              "      <td>459.56</td>\n",
              "      <td>7</td>\n",
              "    </tr>\n",
              "    <tr>\n",
              "      <th>1</th>\n",
              "      <td>p000002</td>\n",
              "      <td>515.89</td>\n",
              "      <td>21</td>\n",
              "    </tr>\n",
              "  </tbody>\n",
              "</table>\n",
              "</div>"
            ],
            "text/plain": [
              "        id   price  quantity\n",
              "0  p000001  459.56         7\n",
              "1  p000002  515.89        21"
            ]
          },
          "metadata": {
            "tags": []
          },
          "execution_count": 47
        }
      ]
    },
    {
      "cell_type": "code",
      "metadata": {
        "id": "1wjbXVzzwpN5"
      },
      "source": [
        "# join two dataframes in python: \n",
        "project_data = pd.merge(project_data, price_data, on='id', how='left')"
      ],
      "execution_count": null,
      "outputs": []
    },
    {
      "cell_type": "code",
      "metadata": {
        "id": "O8DP_M_KwpN5",
        "outputId": "3567ff25-6752-4653-842e-9d5ddbde8f43"
      },
      "source": [
        "project_data['price'].head()"
      ],
      "execution_count": null,
      "outputs": [
        {
          "output_type": "execute_result",
          "data": {
            "text/plain": [
              "0    154.60\n",
              "1    299.00\n",
              "2    516.85\n",
              "3    232.90\n",
              "4     67.98\n",
              "Name: price, dtype: float64"
            ]
          },
          "metadata": {
            "tags": []
          },
          "execution_count": 50
        }
      ]
    }
  ]
}