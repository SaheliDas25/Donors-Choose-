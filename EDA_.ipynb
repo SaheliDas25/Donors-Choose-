{
  "nbformat": 4,
  "nbformat_minor": 5,
  "metadata": {
    "kernelspec": {
      "display_name": "Python 3",
      "language": "python",
      "name": "python3"
    },
    "language_info": {
      "codemirror_mode": {
        "name": "ipython",
        "version": 3
      },
      "file_extension": ".py",
      "mimetype": "text/x-python",
      "name": "python",
      "nbconvert_exporter": "python",
      "pygments_lexer": "ipython3",
      "version": "3.7.9"
    },
    "colab": {
      "name": "EDA .ipynb",
      "provenance": []
    }
  },
  "cells": [
    {
      "cell_type": "markdown",
      "metadata": {
        "id": "interim-turning"
      },
      "source": [
        "# DonorsChoose"
      ],
      "id": "interim-turning"
    },
    {
      "cell_type": "markdown",
      "metadata": {
        "id": "differential-kitchen"
      },
      "source": [
        "DonorsChoose.org receives hundreds of thousands of project proposals each year for classroom projects in need of funding. Right now, a large number of volunteers is needed to manually screen each submission before it's approved to be posted on the DonorsChoose.org website.\n",
        "\n",
        "Next year, DonorsChoose.org expects to receive close to 500,000 project proposals. As a result, there are three main problems they need to solve:\n",
        "\n",
        "How to scale current manual processes and resources to screen 500,000 projects so that they can be posted as quickly and as efficiently as possible\n",
        "How to increase the consistency of project vetting across different volunteers to improve the experience for teachers\n",
        "How to focus volunteer time on the applications that need the most assistance\n",
        "The goal of the competition is to predict whether or not a DonorsChoose.org project proposal submitted by a teacher will be approved, using the text of project descriptions as well as additional metadata about the project, teacher, and school. DonorsChoose.org can then use this information to identify projects most likely to need further review before approval."
      ],
      "id": "differential-kitchen"
    },
    {
      "cell_type": "markdown",
      "metadata": {
        "id": "vf5sXMeVwpNT"
      },
      "source": [
        "## About the DonorsChoose Data Set\n",
        "\n",
        "The `train.csv` data set provided by DonorsChoose contains the following features:\n",
        "\n",
        "Feature | Description \n",
        "----------|---------------\n",
        "**`project_id`** | A unique identifier for the proposed project. **Example:** `p036502`   \n",
        "**`project_title`**    | Title of the project. **Examples:**<br><ul><li><code>Art Will Make You Happy!</code></li><li><code>First Grade Fun</code></li></ul> \n",
        "**`project_grade_category`** | Grade level of students for which the project is targeted. One of the following enumerated values: <br/><ul><li><code>Grades PreK-2</code></li><li><code>Grades 3-5</code></li><li><code>Grades 6-8</code></li><li><code>Grades 9-12</code></li></ul>  \n",
        " **`project_subject_categories`** | One or more (comma-separated) subject categories for the project from the following enumerated list of values:  <br/><ul><li><code>Applied Learning</code></li><li><code>Care &amp; Hunger</code></li><li><code>Health &amp; Sports</code></li><li><code>History &amp; Civics</code></li><li><code>Literacy &amp; Language</code></li><li><code>Math &amp; Science</code></li><li><code>Music &amp; The Arts</code></li><li><code>Special Needs</code></li><li><code>Warmth</code></li></ul><br/> **Examples:** <br/><ul><li><code>Music &amp; The Arts</code></li><li><code>Literacy &amp; Language, Math &amp; Science</code></li>  \n",
        "  **`school_state`** | State where school is located ([Two-letter U.S. postal code](https://en.wikipedia.org/wiki/List_of_U.S._state_abbreviations#Postal_codes)). **Example:** `WY`\n",
        "**`project_subject_subcategories`** | One or more (comma-separated) subject subcategories for the project. **Examples:** <br/><ul><li><code>Literacy</code></li><li><code>Literature &amp; Writing, Social Sciences</code></li></ul> \n",
        "**`project_resource_summary`** | An explanation of the resources needed for the project. **Example:** <br/><ul><li><code>My students need hands on literacy materials to manage sensory needs!</code</li></ul> \n",
        "**`project_essay_1`**    | First application essay<sup>*</sup>  \n",
        "**`project_essay_2`**    | Second application essay<sup>*</sup> \n",
        "**`project_essay_3`**    | Third application essay<sup>*</sup> \n",
        "**`project_essay_4`**    | Fourth application essay<sup>*</sup> \n",
        "**`project_submitted_datetime`** | Datetime when project application was submitted. **Example:** `2016-04-28 12:43:56.245`   \n",
        "**`teacher_id`** | A unique identifier for the teacher of the proposed project. **Example:** `bdf8baa8fedef6bfeec7ae4ff1c15c56`  \n",
        "**`teacher_prefix`** | Teacher's title. One of the following enumerated values: <br/><ul><li><code>nan</code></li><li><code>Dr.</code></li><li><code>Mr.</code></li><li><code>Mrs.</code></li><li><code>Ms.</code></li><li><code>Teacher.</code></li></ul>  \n",
        "**`teacher_number_of_previously_posted_projects`** | Number of project applications previously submitted by the same teacher. **Example:** `2` \n",
        "\n",
        "<sup>*</sup> See the section <b>Notes on the Essay Data</b> for more details about these features.\n",
        "\n",
        "Additionally, the `resources.csv` data set provides more data about the resources required for each project. Each line in this file represents a resource required by a project:\n",
        "\n",
        "Feature | Description \n",
        "----------|---------------\n",
        "**`id`** | A `project_id` value from the `train.csv` file.  **Example:** `p036502`   \n",
        "**`description`** | Desciption of the resource. **Example:** `Tenor Saxophone Reeds, Box of 25`   \n",
        "**`quantity`** | Quantity of the resource required. **Example:** `3`   \n",
        "**`price`** | Price of the resource required. **Example:** `9.95`   \n",
        "\n",
        "**Note:** Many projects require multiple resources. The `id` value corresponds to a `project_id` in train.csv, so you use it as a key to retrieve all resources needed for a project:\n",
        "\n",
        "The data set contains the following label (the value you will attempt to predict):\n",
        "\n",
        "Label | Description\n",
        "----------|---------------\n",
        "`project_is_approved` | A binary flag indicating whether DonorsChoose approved the project. A value of `0` indicates the project was not approved, and a value of `1` indicates the project was approved."
      ],
      "id": "vf5sXMeVwpNT"
    },
    {
      "cell_type": "code",
      "metadata": {
        "id": "necessary-optimization"
      },
      "source": [
        "%matplotlib inline\n",
        "import warnings\n",
        "warnings.filterwarnings(\"ignore\")\n",
        "\n",
        "\n",
        "import pandas as pd\n",
        "import numpy as np\n",
        "\n",
        "import matplotlib.pyplot as plt\n",
        "import seaborn as sns\n",
        "from sklearn.feature_extraction.text import TfidfTransformer\n",
        "from sklearn.feature_extraction.text import TfidfVectorizer\n",
        "\n",
        "from sklearn.feature_extraction.text import CountVectorizer\n",
        "\n"
      ],
      "id": "necessary-optimization",
      "execution_count": null,
      "outputs": []
    },
    {
      "cell_type": "code",
      "metadata": {
        "id": "substantial-boost"
      },
      "source": [
        "project_data = pd.read_csv('train_data.csv')\n",
        "resource_data = pd.read_csv('resources.csv')"
      ],
      "id": "substantial-boost",
      "execution_count": null,
      "outputs": []
    },
    {
      "cell_type": "code",
      "metadata": {
        "id": "prerequisite-transfer",
        "outputId": "fc2311d8-3199-4ae3-edea-2aa157077646"
      },
      "source": [
        "project_data.head()"
      ],
      "id": "prerequisite-transfer",
      "execution_count": null,
      "outputs": [
        {
          "output_type": "execute_result",
          "data": {
            "text/html": [
              "<div>\n",
              "<style scoped>\n",
              "    .dataframe tbody tr th:only-of-type {\n",
              "        vertical-align: middle;\n",
              "    }\n",
              "\n",
              "    .dataframe tbody tr th {\n",
              "        vertical-align: top;\n",
              "    }\n",
              "\n",
              "    .dataframe thead th {\n",
              "        text-align: right;\n",
              "    }\n",
              "</style>\n",
              "<table border=\"1\" class=\"dataframe\">\n",
              "  <thead>\n",
              "    <tr style=\"text-align: right;\">\n",
              "      <th></th>\n",
              "      <th>Unnamed: 0</th>\n",
              "      <th>id</th>\n",
              "      <th>teacher_id</th>\n",
              "      <th>teacher_prefix</th>\n",
              "      <th>school_state</th>\n",
              "      <th>project_submitted_datetime</th>\n",
              "      <th>project_grade_category</th>\n",
              "      <th>project_subject_categories</th>\n",
              "      <th>project_subject_subcategories</th>\n",
              "      <th>project_title</th>\n",
              "      <th>project_essay_1</th>\n",
              "      <th>project_essay_2</th>\n",
              "      <th>project_essay_3</th>\n",
              "      <th>project_essay_4</th>\n",
              "      <th>project_resource_summary</th>\n",
              "      <th>teacher_number_of_previously_posted_projects</th>\n",
              "      <th>project_is_approved</th>\n",
              "    </tr>\n",
              "  </thead>\n",
              "  <tbody>\n",
              "    <tr>\n",
              "      <th>0</th>\n",
              "      <td>160221</td>\n",
              "      <td>p253737</td>\n",
              "      <td>c90749f5d961ff158d4b4d1e7dc665fc</td>\n",
              "      <td>Mrs.</td>\n",
              "      <td>IN</td>\n",
              "      <td>2016-12-05 13:43:57</td>\n",
              "      <td>Grades PreK-2</td>\n",
              "      <td>Literacy &amp; Language</td>\n",
              "      <td>ESL, Literacy</td>\n",
              "      <td>Educational Support for English Learners at Home</td>\n",
              "      <td>My students are English learners that are work...</td>\n",
              "      <td>\\\"The limits of your language are the limits o...</td>\n",
              "      <td>NaN</td>\n",
              "      <td>NaN</td>\n",
              "      <td>My students need opportunities to practice beg...</td>\n",
              "      <td>0</td>\n",
              "      <td>0</td>\n",
              "    </tr>\n",
              "    <tr>\n",
              "      <th>1</th>\n",
              "      <td>140945</td>\n",
              "      <td>p258326</td>\n",
              "      <td>897464ce9ddc600bced1151f324dd63a</td>\n",
              "      <td>Mr.</td>\n",
              "      <td>FL</td>\n",
              "      <td>2016-10-25 09:22:10</td>\n",
              "      <td>Grades 6-8</td>\n",
              "      <td>History &amp; Civics, Health &amp; Sports</td>\n",
              "      <td>Civics &amp; Government, Team Sports</td>\n",
              "      <td>Wanted: Projector for Hungry Learners</td>\n",
              "      <td>Our students arrive to our school eager to lea...</td>\n",
              "      <td>The projector we need for our school is very c...</td>\n",
              "      <td>NaN</td>\n",
              "      <td>NaN</td>\n",
              "      <td>My students need a projector to help with view...</td>\n",
              "      <td>7</td>\n",
              "      <td>1</td>\n",
              "    </tr>\n",
              "    <tr>\n",
              "      <th>2</th>\n",
              "      <td>21895</td>\n",
              "      <td>p182444</td>\n",
              "      <td>3465aaf82da834c0582ebd0ef8040ca0</td>\n",
              "      <td>Ms.</td>\n",
              "      <td>AZ</td>\n",
              "      <td>2016-08-31 12:03:56</td>\n",
              "      <td>Grades 6-8</td>\n",
              "      <td>Health &amp; Sports</td>\n",
              "      <td>Health &amp; Wellness, Team Sports</td>\n",
              "      <td>Soccer Equipment for AWESOME Middle School Stu...</td>\n",
              "      <td>\\r\\n\\\"True champions aren't always the ones th...</td>\n",
              "      <td>The students on the campus come to school know...</td>\n",
              "      <td>NaN</td>\n",
              "      <td>NaN</td>\n",
              "      <td>My students need shine guards, athletic socks,...</td>\n",
              "      <td>1</td>\n",
              "      <td>0</td>\n",
              "    </tr>\n",
              "    <tr>\n",
              "      <th>3</th>\n",
              "      <td>45</td>\n",
              "      <td>p246581</td>\n",
              "      <td>f3cb9bffbba169bef1a77b243e620b60</td>\n",
              "      <td>Mrs.</td>\n",
              "      <td>KY</td>\n",
              "      <td>2016-10-06 21:16:17</td>\n",
              "      <td>Grades PreK-2</td>\n",
              "      <td>Literacy &amp; Language, Math &amp; Science</td>\n",
              "      <td>Literacy, Mathematics</td>\n",
              "      <td>Techie Kindergarteners</td>\n",
              "      <td>I work at a unique school filled with both ESL...</td>\n",
              "      <td>My students live in high poverty conditions wi...</td>\n",
              "      <td>NaN</td>\n",
              "      <td>NaN</td>\n",
              "      <td>My students need to engage in Reading and Math...</td>\n",
              "      <td>4</td>\n",
              "      <td>1</td>\n",
              "    </tr>\n",
              "    <tr>\n",
              "      <th>4</th>\n",
              "      <td>172407</td>\n",
              "      <td>p104768</td>\n",
              "      <td>be1f7507a41f8479dc06f047086a39ec</td>\n",
              "      <td>Mrs.</td>\n",
              "      <td>TX</td>\n",
              "      <td>2016-07-11 01:10:09</td>\n",
              "      <td>Grades PreK-2</td>\n",
              "      <td>Math &amp; Science</td>\n",
              "      <td>Mathematics</td>\n",
              "      <td>Interactive Math Tools</td>\n",
              "      <td>Our second grade classroom next year will be m...</td>\n",
              "      <td>For many students, math is a subject that does...</td>\n",
              "      <td>NaN</td>\n",
              "      <td>NaN</td>\n",
              "      <td>My students need hands on practice in mathemat...</td>\n",
              "      <td>1</td>\n",
              "      <td>1</td>\n",
              "    </tr>\n",
              "  </tbody>\n",
              "</table>\n",
              "</div>"
            ],
            "text/plain": [
              "   Unnamed: 0       id                        teacher_id teacher_prefix  \\\n",
              "0      160221  p253737  c90749f5d961ff158d4b4d1e7dc665fc           Mrs.   \n",
              "1      140945  p258326  897464ce9ddc600bced1151f324dd63a            Mr.   \n",
              "2       21895  p182444  3465aaf82da834c0582ebd0ef8040ca0            Ms.   \n",
              "3          45  p246581  f3cb9bffbba169bef1a77b243e620b60           Mrs.   \n",
              "4      172407  p104768  be1f7507a41f8479dc06f047086a39ec           Mrs.   \n",
              "\n",
              "  school_state project_submitted_datetime project_grade_category  \\\n",
              "0           IN        2016-12-05 13:43:57          Grades PreK-2   \n",
              "1           FL        2016-10-25 09:22:10             Grades 6-8   \n",
              "2           AZ        2016-08-31 12:03:56             Grades 6-8   \n",
              "3           KY        2016-10-06 21:16:17          Grades PreK-2   \n",
              "4           TX        2016-07-11 01:10:09          Grades PreK-2   \n",
              "\n",
              "            project_subject_categories     project_subject_subcategories  \\\n",
              "0                  Literacy & Language                     ESL, Literacy   \n",
              "1    History & Civics, Health & Sports  Civics & Government, Team Sports   \n",
              "2                      Health & Sports    Health & Wellness, Team Sports   \n",
              "3  Literacy & Language, Math & Science             Literacy, Mathematics   \n",
              "4                       Math & Science                       Mathematics   \n",
              "\n",
              "                                       project_title  \\\n",
              "0   Educational Support for English Learners at Home   \n",
              "1              Wanted: Projector for Hungry Learners   \n",
              "2  Soccer Equipment for AWESOME Middle School Stu...   \n",
              "3                             Techie Kindergarteners   \n",
              "4                             Interactive Math Tools   \n",
              "\n",
              "                                     project_essay_1  \\\n",
              "0  My students are English learners that are work...   \n",
              "1  Our students arrive to our school eager to lea...   \n",
              "2  \\r\\n\\\"True champions aren't always the ones th...   \n",
              "3  I work at a unique school filled with both ESL...   \n",
              "4  Our second grade classroom next year will be m...   \n",
              "\n",
              "                                     project_essay_2 project_essay_3  \\\n",
              "0  \\\"The limits of your language are the limits o...             NaN   \n",
              "1  The projector we need for our school is very c...             NaN   \n",
              "2  The students on the campus come to school know...             NaN   \n",
              "3  My students live in high poverty conditions wi...             NaN   \n",
              "4  For many students, math is a subject that does...             NaN   \n",
              "\n",
              "  project_essay_4                           project_resource_summary  \\\n",
              "0             NaN  My students need opportunities to practice beg...   \n",
              "1             NaN  My students need a projector to help with view...   \n",
              "2             NaN  My students need shine guards, athletic socks,...   \n",
              "3             NaN  My students need to engage in Reading and Math...   \n",
              "4             NaN  My students need hands on practice in mathemat...   \n",
              "\n",
              "   teacher_number_of_previously_posted_projects  project_is_approved  \n",
              "0                                             0                    0  \n",
              "1                                             7                    1  \n",
              "2                                             1                    0  \n",
              "3                                             4                    1  \n",
              "4                                             1                    1  "
            ]
          },
          "metadata": {
            "tags": []
          },
          "execution_count": 6
        }
      ]
    },
    {
      "cell_type": "code",
      "metadata": {
        "id": "amended-batman",
        "outputId": "1b5d9ee1-3b2a-4d1f-ca30-4171cd904ee2"
      },
      "source": [
        "project_data['id'].shape"
      ],
      "id": "amended-batman",
      "execution_count": null,
      "outputs": [
        {
          "output_type": "execute_result",
          "data": {
            "text/plain": [
              "(109248,)"
            ]
          },
          "metadata": {
            "tags": []
          },
          "execution_count": 25
        }
      ]
    },
    {
      "cell_type": "code",
      "metadata": {
        "id": "confidential-midwest",
        "outputId": "e025ccbe-0964-40d1-ea18-fa793c11941d"
      },
      "source": [
        "project_data.shape"
      ],
      "id": "confidential-midwest",
      "execution_count": null,
      "outputs": [
        {
          "output_type": "execute_result",
          "data": {
            "text/plain": [
              "(109248, 17)"
            ]
          },
          "metadata": {
            "tags": []
          },
          "execution_count": 4
        }
      ]
    },
    {
      "cell_type": "code",
      "metadata": {
        "id": "nasty-coaching",
        "outputId": "1f3cc477-761e-4f9d-ce92-130e9b00b046"
      },
      "source": [
        "project_data.columns"
      ],
      "id": "nasty-coaching",
      "execution_count": null,
      "outputs": [
        {
          "output_type": "execute_result",
          "data": {
            "text/plain": [
              "Index(['Unnamed: 0', 'id', 'teacher_id', 'teacher_prefix', 'school_state',\n",
              "       'project_submitted_datetime', 'project_grade_category',\n",
              "       'project_subject_categories', 'project_subject_subcategories',\n",
              "       'project_title', 'project_essay_1', 'project_essay_2',\n",
              "       'project_essay_3', 'project_essay_4', 'project_resource_summary',\n",
              "       'teacher_number_of_previously_posted_projects', 'project_is_approved'],\n",
              "      dtype='object')"
            ]
          },
          "metadata": {
            "tags": []
          },
          "execution_count": 6
        }
      ]
    },
    {
      "cell_type": "code",
      "metadata": {
        "id": "bronze-norway",
        "outputId": "725dc33c-7fd7-4b7f-8b09-3ef7a46d111a"
      },
      "source": [
        "resource_data.shape"
      ],
      "id": "bronze-norway",
      "execution_count": null,
      "outputs": [
        {
          "output_type": "execute_result",
          "data": {
            "text/plain": [
              "(1541272, 4)"
            ]
          },
          "metadata": {
            "tags": []
          },
          "execution_count": 7
        }
      ]
    },
    {
      "cell_type": "code",
      "metadata": {
        "id": "southeast-atmosphere",
        "outputId": "6f301470-2b5c-4df0-d2a2-1ad85733898b"
      },
      "source": [
        "resource_data.head()"
      ],
      "id": "southeast-atmosphere",
      "execution_count": null,
      "outputs": [
        {
          "output_type": "execute_result",
          "data": {
            "text/html": [
              "<div>\n",
              "<style scoped>\n",
              "    .dataframe tbody tr th:only-of-type {\n",
              "        vertical-align: middle;\n",
              "    }\n",
              "\n",
              "    .dataframe tbody tr th {\n",
              "        vertical-align: top;\n",
              "    }\n",
              "\n",
              "    .dataframe thead th {\n",
              "        text-align: right;\n",
              "    }\n",
              "</style>\n",
              "<table border=\"1\" class=\"dataframe\">\n",
              "  <thead>\n",
              "    <tr style=\"text-align: right;\">\n",
              "      <th></th>\n",
              "      <th>id</th>\n",
              "      <th>description</th>\n",
              "      <th>quantity</th>\n",
              "      <th>price</th>\n",
              "    </tr>\n",
              "  </thead>\n",
              "  <tbody>\n",
              "    <tr>\n",
              "      <th>0</th>\n",
              "      <td>p233245</td>\n",
              "      <td>LC652 - Lakeshore Double-Space Mobile Drying Rack</td>\n",
              "      <td>1</td>\n",
              "      <td>149.00</td>\n",
              "    </tr>\n",
              "    <tr>\n",
              "      <th>1</th>\n",
              "      <td>p069063</td>\n",
              "      <td>Bouncy Bands for Desks (Blue support pipes)</td>\n",
              "      <td>3</td>\n",
              "      <td>14.95</td>\n",
              "    </tr>\n",
              "    <tr>\n",
              "      <th>2</th>\n",
              "      <td>p069063</td>\n",
              "      <td>Cory Stories: A Kid's Book About Living With Adhd</td>\n",
              "      <td>1</td>\n",
              "      <td>8.45</td>\n",
              "    </tr>\n",
              "    <tr>\n",
              "      <th>3</th>\n",
              "      <td>p069063</td>\n",
              "      <td>Dixon Ticonderoga Wood-Cased #2 HB Pencils, Bo...</td>\n",
              "      <td>2</td>\n",
              "      <td>13.59</td>\n",
              "    </tr>\n",
              "    <tr>\n",
              "      <th>4</th>\n",
              "      <td>p069063</td>\n",
              "      <td>EDUCATIONAL INSIGHTS FLUORESCENT LIGHT FILTERS...</td>\n",
              "      <td>3</td>\n",
              "      <td>24.95</td>\n",
              "    </tr>\n",
              "  </tbody>\n",
              "</table>\n",
              "</div>"
            ],
            "text/plain": [
              "        id                                        description  quantity  \\\n",
              "0  p233245  LC652 - Lakeshore Double-Space Mobile Drying Rack         1   \n",
              "1  p069063        Bouncy Bands for Desks (Blue support pipes)         3   \n",
              "2  p069063  Cory Stories: A Kid's Book About Living With Adhd         1   \n",
              "3  p069063  Dixon Ticonderoga Wood-Cased #2 HB Pencils, Bo...         2   \n",
              "4  p069063  EDUCATIONAL INSIGHTS FLUORESCENT LIGHT FILTERS...         3   \n",
              "\n",
              "    price  \n",
              "0  149.00  \n",
              "1   14.95  \n",
              "2    8.45  \n",
              "3   13.59  \n",
              "4   24.95  "
            ]
          },
          "metadata": {
            "tags": []
          },
          "execution_count": 8
        }
      ]
    },
    {
      "cell_type": "markdown",
      "metadata": {
        "id": "differential-virgin"
      },
      "source": [
        "# Percentage of Project approved"
      ],
      "id": "differential-virgin"
    },
    {
      "cell_type": "code",
      "metadata": {
        "id": "environmental-firmware",
        "outputId": "5b56d909-fd8c-4718-abf9-23af7cef2bd8"
      },
      "source": [
        "project_data['project_is_approved'].value_counts()"
      ],
      "id": "environmental-firmware",
      "execution_count": null,
      "outputs": [
        {
          "output_type": "execute_result",
          "data": {
            "text/plain": [
              "1    92706\n",
              "0    16542\n",
              "Name: project_is_approved, dtype: int64"
            ]
          },
          "metadata": {
            "tags": []
          },
          "execution_count": 42
        }
      ]
    },
    {
      "cell_type": "code",
      "metadata": {
        "id": "serial-fundamentals"
      },
      "source": [
        "project_is_approved=project_data['project_is_approved'][project_data['project_is_approved']==1].count()\n",
        "project_not_approved=project_data['project_is_approved'][project_data['project_is_approved']==0].count()\n",
        "total_project=project_data['project_is_approved'].count()\n",
        "percentage_project_is_approved=(project_is_approved/total_project)*100\n",
        "percentage_project_not_approved=(project_not_approved/total_project)*100"
      ],
      "id": "serial-fundamentals",
      "execution_count": null,
      "outputs": []
    },
    {
      "cell_type": "code",
      "metadata": {
        "id": "matched-shoot",
        "outputId": "452f08c6-2123-48b4-8027-10f24ae33185"
      },
      "source": [
        "percentage_project_is_approved,percentage_project_not_approved"
      ],
      "id": "matched-shoot",
      "execution_count": null,
      "outputs": [
        {
          "output_type": "execute_result",
          "data": {
            "text/plain": [
              "(84.85830404217927, 15.141695957820739)"
            ]
          },
          "metadata": {
            "tags": []
          },
          "execution_count": 50
        }
      ]
    },
    {
      "cell_type": "code",
      "metadata": {
        "id": "sticky-output",
        "outputId": "fa09190b-c49f-4d63-f3a2-cd641b52b1aa"
      },
      "source": [
        "y = np.array([percentage_project_is_approved,percentage_project_not_approved])\n",
        "mylabels = [\"percentage_project_is_approved\", \"percentage_project_not_approved\"]\n",
        "\n",
        "plt.pie(y, labels = mylabels)\n",
        "plt.show() "
      ],
      "id": "sticky-output",
      "execution_count": null,
      "outputs": [
        {
          "output_type": "display_data",
          "data": {
            "image/png": "[encoded data removed]",
            "text/plain": [
              "<Figure size 432x288 with 1 Axes>"
            ]
          },
          "metadata": {
            "tags": []
          }
        }
      ]
    },
    {
      "cell_type": "markdown",
      "metadata": {
        "id": "changed-shareware"
      },
      "source": [
        "# Project accepted per school state"
      ],
      "id": "changed-shareware"
    },
    {
      "cell_type": "code",
      "metadata": {
        "id": "economic-forth",
        "outputId": "c7dfb533-e360-4c37-ac0c-6e2cbd08d3f7"
      },
      "source": [
        "project_data.groupby(['school_state','project_is_approved'])['project_is_approved'].count().unstack().plot(kind='bar',stacked=True,figsize=(20, 20))\n",
        "plt.show()"
      ],
      "id": "economic-forth",
      "execution_count": null,
      "outputs": [
        {
          "output_type": "display_data",
          "data": {
            "image/png": "[encoded data removed]",
            "text/plain": [
              "<Figure size 1440x1440 with 1 Axes>"
            ]
          },
          "metadata": {
            "tags": [],
            "needs_background": "light"
          }
        }
      ]
    },
    {
      "cell_type": "code",
      "metadata": {
        "id": "conceptual-hunter",
        "outputId": "8f10ad15-4c84-476e-b225-10d71d2d4a02"
      },
      "source": [
        "project_data.groupby(['school_state','project_is_approved'])['project_is_approved'].count().unstack()"
      ],
      "id": "conceptual-hunter",
      "execution_count": null,
      "outputs": [
        {
          "output_type": "execute_result",
          "data": {
            "text/html": [
              "<div>\n",
              "<style scoped>\n",
              "    .dataframe tbody tr th:only-of-type {\n",
              "        vertical-align: middle;\n",
              "    }\n",
              "\n",
              "    .dataframe tbody tr th {\n",
              "        vertical-align: top;\n",
              "    }\n",
              "\n",
              "    .dataframe thead th {\n",
              "        text-align: right;\n",
              "    }\n",
              "</style>\n",
              "<table border=\"1\" class=\"dataframe\">\n",
              "  <thead>\n",
              "    <tr style=\"text-align: right;\">\n",
              "      <th>project_is_approved</th>\n",
              "      <th>0</th>\n",
              "      <th>1</th>\n",
              "    </tr>\n",
              "    <tr>\n",
              "      <th>school_state</th>\n",
              "      <th></th>\n",
              "      <th></th>\n",
              "    </tr>\n",
              "  </thead>\n",
              "  <tbody>\n",
              "    <tr>\n",
              "      <th>AK</th>\n",
              "      <td>55</td>\n",
              "      <td>290</td>\n",
              "    </tr>\n",
              "    <tr>\n",
              "      <th>AL</th>\n",
              "      <td>256</td>\n",
              "      <td>1506</td>\n",
              "    </tr>\n",
              "    <tr>\n",
              "      <th>AR</th>\n",
              "      <td>177</td>\n",
              "      <td>872</td>\n",
              "    </tr>\n",
              "    <tr>\n",
              "      <th>AZ</th>\n",
              "      <td>347</td>\n",
              "      <td>1800</td>\n",
              "    </tr>\n",
              "    <tr>\n",
              "      <th>CA</th>\n",
              "      <td>2183</td>\n",
              "      <td>13205</td>\n",
              "    </tr>\n",
              "    <tr>\n",
              "      <th>CO</th>\n",
              "      <td>176</td>\n",
              "      <td>935</td>\n",
              "    </tr>\n",
              "    <tr>\n",
              "      <th>CT</th>\n",
              "      <td>218</td>\n",
              "      <td>1445</td>\n",
              "    </tr>\n",
              "    <tr>\n",
              "      <th>DC</th>\n",
              "      <td>102</td>\n",
              "      <td>414</td>\n",
              "    </tr>\n",
              "    <tr>\n",
              "      <th>DE</th>\n",
              "      <td>35</td>\n",
              "      <td>308</td>\n",
              "    </tr>\n",
              "    <tr>\n",
              "      <th>FL</th>\n",
              "      <td>1041</td>\n",
              "      <td>5144</td>\n",
              "    </tr>\n",
              "    <tr>\n",
              "      <th>GA</th>\n",
              "      <td>634</td>\n",
              "      <td>3329</td>\n",
              "    </tr>\n",
              "    <tr>\n",
              "      <th>HI</th>\n",
              "      <td>73</td>\n",
              "      <td>434</td>\n",
              "    </tr>\n",
              "    <tr>\n",
              "      <th>IA</th>\n",
              "      <td>98</td>\n",
              "      <td>568</td>\n",
              "    </tr>\n",
              "    <tr>\n",
              "      <th>ID</th>\n",
              "      <td>114</td>\n",
              "      <td>579</td>\n",
              "    </tr>\n",
              "    <tr>\n",
              "      <th>IL</th>\n",
              "      <td>640</td>\n",
              "      <td>3710</td>\n",
              "    </tr>\n",
              "    <tr>\n",
              "      <th>IN</th>\n",
              "      <td>406</td>\n",
              "      <td>2214</td>\n",
              "    </tr>\n",
              "    <tr>\n",
              "      <th>KS</th>\n",
              "      <td>102</td>\n",
              "      <td>532</td>\n",
              "    </tr>\n",
              "    <tr>\n",
              "      <th>KY</th>\n",
              "      <td>178</td>\n",
              "      <td>1126</td>\n",
              "    </tr>\n",
              "    <tr>\n",
              "      <th>LA</th>\n",
              "      <td>404</td>\n",
              "      <td>1990</td>\n",
              "    </tr>\n",
              "    <tr>\n",
              "      <th>MA</th>\n",
              "      <td>334</td>\n",
              "      <td>2055</td>\n",
              "    </tr>\n",
              "    <tr>\n",
              "      <th>MD</th>\n",
              "      <td>244</td>\n",
              "      <td>1270</td>\n",
              "    </tr>\n",
              "    <tr>\n",
              "      <th>ME</th>\n",
              "      <td>77</td>\n",
              "      <td>428</td>\n",
              "    </tr>\n",
              "    <tr>\n",
              "      <th>MI</th>\n",
              "      <td>489</td>\n",
              "      <td>2672</td>\n",
              "    </tr>\n",
              "    <tr>\n",
              "      <th>MN</th>\n",
              "      <td>172</td>\n",
              "      <td>1036</td>\n",
              "    </tr>\n",
              "    <tr>\n",
              "      <th>MO</th>\n",
              "      <td>374</td>\n",
              "      <td>2202</td>\n",
              "    </tr>\n",
              "    <tr>\n",
              "      <th>MS</th>\n",
              "      <td>205</td>\n",
              "      <td>1118</td>\n",
              "    </tr>\n",
              "    <tr>\n",
              "      <th>MT</th>\n",
              "      <td>45</td>\n",
              "      <td>200</td>\n",
              "    </tr>\n",
              "    <tr>\n",
              "      <th>NC</th>\n",
              "      <td>738</td>\n",
              "      <td>4353</td>\n",
              "    </tr>\n",
              "    <tr>\n",
              "      <th>ND</th>\n",
              "      <td>16</td>\n",
              "      <td>127</td>\n",
              "    </tr>\n",
              "    <tr>\n",
              "      <th>NE</th>\n",
              "      <td>49</td>\n",
              "      <td>260</td>\n",
              "    </tr>\n",
              "    <tr>\n",
              "      <th>NH</th>\n",
              "      <td>44</td>\n",
              "      <td>304</td>\n",
              "    </tr>\n",
              "    <tr>\n",
              "      <th>NJ</th>\n",
              "      <td>349</td>\n",
              "      <td>1888</td>\n",
              "    </tr>\n",
              "    <tr>\n",
              "      <th>NM</th>\n",
              "      <td>78</td>\n",
              "      <td>479</td>\n",
              "    </tr>\n",
              "    <tr>\n",
              "      <th>NV</th>\n",
              "      <td>200</td>\n",
              "      <td>1167</td>\n",
              "    </tr>\n",
              "    <tr>\n",
              "      <th>NY</th>\n",
              "      <td>1027</td>\n",
              "      <td>6291</td>\n",
              "    </tr>\n",
              "    <tr>\n",
              "      <th>OH</th>\n",
              "      <td>308</td>\n",
              "      <td>2159</td>\n",
              "    </tr>\n",
              "    <tr>\n",
              "      <th>OK</th>\n",
              "      <td>376</td>\n",
              "      <td>1900</td>\n",
              "    </tr>\n",
              "    <tr>\n",
              "      <th>OR</th>\n",
              "      <td>186</td>\n",
              "      <td>1056</td>\n",
              "    </tr>\n",
              "    <tr>\n",
              "      <th>PA</th>\n",
              "      <td>451</td>\n",
              "      <td>2658</td>\n",
              "    </tr>\n",
              "    <tr>\n",
              "      <th>RI</th>\n",
              "      <td>42</td>\n",
              "      <td>243</td>\n",
              "    </tr>\n",
              "    <tr>\n",
              "      <th>SC</th>\n",
              "      <td>551</td>\n",
              "      <td>3385</td>\n",
              "    </tr>\n",
              "    <tr>\n",
              "      <th>SD</th>\n",
              "      <td>48</td>\n",
              "      <td>252</td>\n",
              "    </tr>\n",
              "    <tr>\n",
              "      <th>TN</th>\n",
              "      <td>253</td>\n",
              "      <td>1435</td>\n",
              "    </tr>\n",
              "    <tr>\n",
              "      <th>TX</th>\n",
              "      <td>1382</td>\n",
              "      <td>6014</td>\n",
              "    </tr>\n",
              "    <tr>\n",
              "      <th>UT</th>\n",
              "      <td>283</td>\n",
              "      <td>1448</td>\n",
              "    </tr>\n",
              "    <tr>\n",
              "      <th>VA</th>\n",
              "      <td>306</td>\n",
              "      <td>1739</td>\n",
              "    </tr>\n",
              "    <tr>\n",
              "      <th>VT</th>\n",
              "      <td>16</td>\n",
              "      <td>64</td>\n",
              "    </tr>\n",
              "    <tr>\n",
              "      <th>WA</th>\n",
              "      <td>289</td>\n",
              "      <td>2045</td>\n",
              "    </tr>\n",
              "    <tr>\n",
              "      <th>WI</th>\n",
              "      <td>282</td>\n",
              "      <td>1545</td>\n",
              "    </tr>\n",
              "    <tr>\n",
              "      <th>WV</th>\n",
              "      <td>73</td>\n",
              "      <td>430</td>\n",
              "    </tr>\n",
              "    <tr>\n",
              "      <th>WY</th>\n",
              "      <td>16</td>\n",
              "      <td>82</td>\n",
              "    </tr>\n",
              "  </tbody>\n",
              "</table>\n",
              "</div>"
            ],
            "text/plain": [
              "project_is_approved     0      1\n",
              "school_state                    \n",
              "AK                     55    290\n",
              "AL                    256   1506\n",
              "AR                    177    872\n",
              "AZ                    347   1800\n",
              "CA                   2183  13205\n",
              "CO                    176    935\n",
              "CT                    218   1445\n",
              "DC                    102    414\n",
              "DE                     35    308\n",
              "FL                   1041   5144\n",
              "GA                    634   3329\n",
              "HI                     73    434\n",
              "IA                     98    568\n",
              "ID                    114    579\n",
              "IL                    640   3710\n",
              "IN                    406   2214\n",
              "KS                    102    532\n",
              "KY                    178   1126\n",
              "LA                    404   1990\n",
              "MA                    334   2055\n",
              "MD                    244   1270\n",
              "ME                     77    428\n",
              "MI                    489   2672\n",
              "MN                    172   1036\n",
              "MO                    374   2202\n",
              "MS                    205   1118\n",
              "MT                     45    200\n",
              "NC                    738   4353\n",
              "ND                     16    127\n",
              "NE                     49    260\n",
              "NH                     44    304\n",
              "NJ                    349   1888\n",
              "NM                     78    479\n",
              "NV                    200   1167\n",
              "NY                   1027   6291\n",
              "OH                    308   2159\n",
              "OK                    376   1900\n",
              "OR                    186   1056\n",
              "PA                    451   2658\n",
              "RI                     42    243\n",
              "SC                    551   3385\n",
              "SD                     48    252\n",
              "TN                    253   1435\n",
              "TX                   1382   6014\n",
              "UT                    283   1448\n",
              "VA                    306   1739\n",
              "VT                     16     64\n",
              "WA                    289   2045\n",
              "WI                    282   1545\n",
              "WV                     73    430\n",
              "WY                     16     82"
            ]
          },
          "metadata": {
            "tags": []
          },
          "execution_count": 82
        }
      ]
    },
    {
      "cell_type": "markdown",
      "metadata": {
        "id": "cosmetic-pharmacology"
      },
      "source": [
        "# Project accepted as per teacher_prefix"
      ],
      "id": "cosmetic-pharmacology"
    },
    {
      "cell_type": "code",
      "metadata": {
        "id": "expressed-consultancy",
        "outputId": "9941e135-e24c-4c52-dbde-1fe098f1e880"
      },
      "source": [
        "project_approved=project_data.groupby(['teacher_prefix','project_is_approved'])['project_is_approved'].count().unstack().plot(kind='bar',stacked=True,figsize=(20, 20))\n",
        "plt.show()"
      ],
      "id": "expressed-consultancy",
      "execution_count": null,
      "outputs": [
        {
          "output_type": "display_data",
          "data": {
            "image/png": "[encoded data removed]",
            "text/plain": [
              "<Figure size 1440x1440 with 1 Axes>"
            ]
          },
          "metadata": {
            "tags": [],
            "needs_background": "light"
          }
        }
      ]
    },
    {
      "cell_type": "markdown",
      "metadata": {
        "id": "continuous-queen"
      },
      "source": [
        "# Project accepted as per project_grade_category"
      ],
      "id": "continuous-queen"
    },
    {
      "cell_type": "code",
      "metadata": {
        "id": "connected-nylon",
        "outputId": "a12b66fe-0301-4eb5-94a9-2130cc1b8f50"
      },
      "source": [
        "project_approved=project_data.groupby(['project_grade_category','project_is_approved'])['project_is_approved'].count().unstack().plot(kind='bar',stacked=True,figsize=(20, 20))\n",
        "plt.show()"
      ],
      "id": "connected-nylon",
      "execution_count": null,
      "outputs": [
        {
          "output_type": "display_data",
          "data": {
            "image/png": "[encoded data removed]",
            "text/plain": [
              "<Figure size 1440x1440 with 1 Axes>"
            ]
          },
          "metadata": {
            "tags": [],
            "needs_background": "light"
          }
        }
      ]
    },
    {
      "cell_type": "markdown",
      "metadata": {
        "id": "lovely-coverage"
      },
      "source": [
        "# Clean  project_subject_categories"
      ],
      "id": "lovely-coverage"
    },
    {
      "cell_type": "code",
      "metadata": {
        "id": "amber-bloom"
      },
      "source": [
        "catogories = list(project_data['project_subject_categories'].values)\n",
        "# remove special characters from list of strings python: https://stackoverflow.com/a/47301924/4084039\n",
        "cat_list = []\n",
        "for i in catogories:\n",
        "    temp = \"\"\n",
        "   \n",
        "    for j in i.split(','): \n",
        "        if 'The' in j.split(): \n",
        "            j=j.replace('The','')\n",
        "        j = j.replace(' ','') \n",
        "        temp+=j.strip()+\" \" \n",
        "        temp = temp.replace('&','_')\n",
        "    cat_list.append(temp.strip())"
      ],
      "id": "amber-bloom",
      "execution_count": null,
      "outputs": []
    },
    {
      "cell_type": "code",
      "metadata": {
        "id": "chronic-morning",
        "outputId": "d2ad7880-149f-4a39-e00b-b832a4ab6f76"
      },
      "source": [
        "project_data['clean_categories'] = cat_list\n",
        "project_data.drop(['project_subject_categories'], axis=1, inplace=True)\n",
        "project_data.head(2)"
      ],
      "id": "chronic-morning",
      "execution_count": null,
      "outputs": [
        {
          "output_type": "execute_result",
          "data": {
            "text/html": [
              "<div>\n",
              "<style scoped>\n",
              "    .dataframe tbody tr th:only-of-type {\n",
              "        vertical-align: middle;\n",
              "    }\n",
              "\n",
              "    .dataframe tbody tr th {\n",
              "        vertical-align: top;\n",
              "    }\n",
              "\n",
              "    .dataframe thead th {\n",
              "        text-align: right;\n",
              "    }\n",
              "</style>\n",
              "<table border=\"1\" class=\"dataframe\">\n",
              "  <thead>\n",
              "    <tr style=\"text-align: right;\">\n",
              "      <th></th>\n",
              "      <th>Unnamed: 0</th>\n",
              "      <th>id</th>\n",
              "      <th>teacher_id</th>\n",
              "      <th>teacher_prefix</th>\n",
              "      <th>school_state</th>\n",
              "      <th>project_submitted_datetime</th>\n",
              "      <th>project_grade_category</th>\n",
              "      <th>project_subject_subcategories</th>\n",
              "      <th>project_title</th>\n",
              "      <th>project_essay_1</th>\n",
              "      <th>project_essay_2</th>\n",
              "      <th>project_essay_3</th>\n",
              "      <th>project_essay_4</th>\n",
              "      <th>project_resource_summary</th>\n",
              "      <th>teacher_number_of_previously_posted_projects</th>\n",
              "      <th>project_is_approved</th>\n",
              "      <th>clean_categories</th>\n",
              "    </tr>\n",
              "  </thead>\n",
              "  <tbody>\n",
              "    <tr>\n",
              "      <th>0</th>\n",
              "      <td>160221</td>\n",
              "      <td>p253737</td>\n",
              "      <td>c90749f5d961ff158d4b4d1e7dc665fc</td>\n",
              "      <td>Mrs.</td>\n",
              "      <td>IN</td>\n",
              "      <td>2016-12-05 13:43:57</td>\n",
              "      <td>Grades PreK-2</td>\n",
              "      <td>ESL, Literacy</td>\n",
              "      <td>Educational Support for English Learners at Home</td>\n",
              "      <td>My students are English learners that are work...</td>\n",
              "      <td>\\\"The limits of your language are the limits o...</td>\n",
              "      <td>NaN</td>\n",
              "      <td>NaN</td>\n",
              "      <td>My students need opportunities to practice beg...</td>\n",
              "      <td>0</td>\n",
              "      <td>0</td>\n",
              "      <td>Literacy_Language</td>\n",
              "    </tr>\n",
              "    <tr>\n",
              "      <th>1</th>\n",
              "      <td>140945</td>\n",
              "      <td>p258326</td>\n",
              "      <td>897464ce9ddc600bced1151f324dd63a</td>\n",
              "      <td>Mr.</td>\n",
              "      <td>FL</td>\n",
              "      <td>2016-10-25 09:22:10</td>\n",
              "      <td>Grades 6-8</td>\n",
              "      <td>Civics &amp; Government, Team Sports</td>\n",
              "      <td>Wanted: Projector for Hungry Learners</td>\n",
              "      <td>Our students arrive to our school eager to lea...</td>\n",
              "      <td>The projector we need for our school is very c...</td>\n",
              "      <td>NaN</td>\n",
              "      <td>NaN</td>\n",
              "      <td>My students need a projector to help with view...</td>\n",
              "      <td>7</td>\n",
              "      <td>1</td>\n",
              "      <td>History_Civics Health_Sports</td>\n",
              "    </tr>\n",
              "  </tbody>\n",
              "</table>\n",
              "</div>"
            ],
            "text/plain": [
              "   Unnamed: 0       id                        teacher_id teacher_prefix  \\\n",
              "0      160221  p253737  c90749f5d961ff158d4b4d1e7dc665fc           Mrs.   \n",
              "1      140945  p258326  897464ce9ddc600bced1151f324dd63a            Mr.   \n",
              "\n",
              "  school_state project_submitted_datetime project_grade_category  \\\n",
              "0           IN        2016-12-05 13:43:57          Grades PreK-2   \n",
              "1           FL        2016-10-25 09:22:10             Grades 6-8   \n",
              "\n",
              "      project_subject_subcategories  \\\n",
              "0                     ESL, Literacy   \n",
              "1  Civics & Government, Team Sports   \n",
              "\n",
              "                                      project_title  \\\n",
              "0  Educational Support for English Learners at Home   \n",
              "1             Wanted: Projector for Hungry Learners   \n",
              "\n",
              "                                     project_essay_1  \\\n",
              "0  My students are English learners that are work...   \n",
              "1  Our students arrive to our school eager to lea...   \n",
              "\n",
              "                                     project_essay_2 project_essay_3  \\\n",
              "0  \\\"The limits of your language are the limits o...             NaN   \n",
              "1  The projector we need for our school is very c...             NaN   \n",
              "\n",
              "  project_essay_4                           project_resource_summary  \\\n",
              "0             NaN  My students need opportunities to practice beg...   \n",
              "1             NaN  My students need a projector to help with view...   \n",
              "\n",
              "   teacher_number_of_previously_posted_projects  project_is_approved  \\\n",
              "0                                             0                    0   \n",
              "1                                             7                    1   \n",
              "\n",
              "               clean_categories  \n",
              "0             Literacy_Language  \n",
              "1  History_Civics Health_Sports  "
            ]
          },
          "metadata": {
            "tags": []
          },
          "execution_count": 22
        }
      ]
    },
    {
      "cell_type": "markdown",
      "metadata": {
        "id": "looking-generator"
      },
      "source": [
        "# Project accepted as per clean_categories"
      ],
      "id": "looking-generator"
    },
    {
      "cell_type": "code",
      "metadata": {
        "id": "robust-intro",
        "outputId": "8f0776a9-c736-41df-e3ae-f684b6bdf777"
      },
      "source": [
        "project_approved=project_data.groupby(['clean_categories','project_is_approved'])['project_is_approved'].count().sort_values(ascending=False).unstack().plot(kind='bar',stacked=True,figsize=(20, 20))\n",
        "plt.show()"
      ],
      "id": "robust-intro",
      "execution_count": null,
      "outputs": [
        {
          "output_type": "display_data",
          "data": {
            "image/png": "[encoded data removed]",
            "text/plain": [
              "<Figure size 1440x1440 with 1 Axes>"
            ]
          },
          "metadata": {
            "tags": [],
            "needs_background": "light"
          }
        }
      ]
    },
    {
      "cell_type": "code",
      "metadata": {
        "id": "central-evening",
        "outputId": "85303202-79a9-4ce2-8072-9a907b44f123"
      },
      "source": [
        "from collections import Counter\n",
        "my_counter = Counter()\n",
        "for word in project_data['clean_categories'].values:\n",
        "    my_counter.update(word.split())\n",
        "print(my_counter)"
      ],
      "id": "central-evening",
      "execution_count": null,
      "outputs": [
        {
          "output_type": "stream",
          "text": [
            "Counter({'Literacy_Language': 52239, 'Math_Science': 41421, 'Health_Sports': 14223, 'SpecialNeeds': 13642, 'AppliedLearning': 12135, 'Music_Arts': 10293, 'History_Civics': 5914, 'Warmth': 1388, 'Care_Hunger': 1388})\n"
          ],
          "name": "stdout"
        }
      ]
    },
    {
      "cell_type": "code",
      "metadata": {
        "scrolled": true,
        "id": "liberal-andrews",
        "outputId": "6c9568f3-64d6-46e2-b6c5-2988af605868"
      },
      "source": [
        "my_counter_sort = sorted(my_counter,key=my_counter.get)\n",
        "my_counter_sort_dict=dict()\n",
        "\n",
        "for i in my_counter_sort:\n",
        "    my_counter_sort_dict[i] = my_counter[i]\n",
        "\n",
        "i = np.arange(len(my_counter_sort_dict))\n",
        "\n",
        "plt.figure(figsize=(20,5))\n",
        "p1 = plt.bar(i,list(my_counter_sort_dict.values()))\n",
        "\n",
        "plt.ylabel('Projects')\n",
        "plt.title('% of projects aproved state wise')\n",
        "plt.xticks(i,list(my_counter_sort_dict.keys()))\n",
        "plt.show()"
      ],
      "id": "liberal-andrews",
      "execution_count": null,
      "outputs": [
        {
          "output_type": "display_data",
          "data": {
            "image/png": "[encoded data removed]",
            "text/plain": [
              "<Figure size 1440x360 with 1 Axes>"
            ]
          },
          "metadata": {
            "tags": [],
            "needs_background": "light"
          }
        }
      ]
    },
    {
      "cell_type": "markdown",
      "metadata": {
        "id": "adverse-denmark"
      },
      "source": [
        "# Clean project_subject_subcategories"
      ],
      "id": "adverse-denmark"
    },
    {
      "cell_type": "code",
      "metadata": {
        "id": "toxic-comedy"
      },
      "source": [
        "catogories = list(project_data['project_subject_subcategories'].values)\n",
        "# remove special characters from list of strings python: https://stackoverflow.com/a/47301924/4084039\n",
        "sub_cat_list = []\n",
        "for i in catogories:\n",
        "    temp = \"\"\n",
        "   \n",
        "    for j in i.split(','): \n",
        "        if 'The' in j.split(): \n",
        "            j=j.replace('The','')\n",
        "        j = j.replace(' ','') \n",
        "        temp+=j.strip()+\" \" \n",
        "        temp = temp.replace('&','_')\n",
        "    sub_cat_list.append(temp.strip())"
      ],
      "id": "toxic-comedy",
      "execution_count": null,
      "outputs": []
    },
    {
      "cell_type": "code",
      "metadata": {
        "id": "signed-campus",
        "outputId": "5c0cd452-7059-41e4-ef14-391e5c751c5c"
      },
      "source": [
        "project_data['clean_subcategories'] = sub_cat_list\n",
        "project_data.drop(['project_subject_subcategories'], axis=1, inplace=True)\n",
        "project_data.head(2)"
      ],
      "id": "signed-campus",
      "execution_count": null,
      "outputs": [
        {
          "output_type": "execute_result",
          "data": {
            "text/html": [
              "<div>\n",
              "<style scoped>\n",
              "    .dataframe tbody tr th:only-of-type {\n",
              "        vertical-align: middle;\n",
              "    }\n",
              "\n",
              "    .dataframe tbody tr th {\n",
              "        vertical-align: top;\n",
              "    }\n",
              "\n",
              "    .dataframe thead th {\n",
              "        text-align: right;\n",
              "    }\n",
              "</style>\n",
              "<table border=\"1\" class=\"dataframe\">\n",
              "  <thead>\n",
              "    <tr style=\"text-align: right;\">\n",
              "      <th></th>\n",
              "      <th>Unnamed: 0</th>\n",
              "      <th>id</th>\n",
              "      <th>teacher_id</th>\n",
              "      <th>teacher_prefix</th>\n",
              "      <th>school_state</th>\n",
              "      <th>project_submitted_datetime</th>\n",
              "      <th>project_grade_category</th>\n",
              "      <th>project_subject_categories</th>\n",
              "      <th>project_title</th>\n",
              "      <th>project_essay_1</th>\n",
              "      <th>project_essay_2</th>\n",
              "      <th>project_essay_3</th>\n",
              "      <th>project_essay_4</th>\n",
              "      <th>project_resource_summary</th>\n",
              "      <th>teacher_number_of_previously_posted_projects</th>\n",
              "      <th>project_is_approved</th>\n",
              "      <th>clean_subcategories</th>\n",
              "    </tr>\n",
              "  </thead>\n",
              "  <tbody>\n",
              "    <tr>\n",
              "      <th>0</th>\n",
              "      <td>160221</td>\n",
              "      <td>p253737</td>\n",
              "      <td>c90749f5d961ff158d4b4d1e7dc665fc</td>\n",
              "      <td>Mrs.</td>\n",
              "      <td>IN</td>\n",
              "      <td>2016-12-05 13:43:57</td>\n",
              "      <td>Grades PreK-2</td>\n",
              "      <td>Literacy &amp; Language</td>\n",
              "      <td>Educational Support for English Learners at Home</td>\n",
              "      <td>My students are English learners that are work...</td>\n",
              "      <td>\\\"The limits of your language are the limits o...</td>\n",
              "      <td>NaN</td>\n",
              "      <td>NaN</td>\n",
              "      <td>My students need opportunities to practice beg...</td>\n",
              "      <td>0</td>\n",
              "      <td>0</td>\n",
              "      <td>ESL Literacy</td>\n",
              "    </tr>\n",
              "    <tr>\n",
              "      <th>1</th>\n",
              "      <td>140945</td>\n",
              "      <td>p258326</td>\n",
              "      <td>897464ce9ddc600bced1151f324dd63a</td>\n",
              "      <td>Mr.</td>\n",
              "      <td>FL</td>\n",
              "      <td>2016-10-25 09:22:10</td>\n",
              "      <td>Grades 6-8</td>\n",
              "      <td>History &amp; Civics, Health &amp; Sports</td>\n",
              "      <td>Wanted: Projector for Hungry Learners</td>\n",
              "      <td>Our students arrive to our school eager to lea...</td>\n",
              "      <td>The projector we need for our school is very c...</td>\n",
              "      <td>NaN</td>\n",
              "      <td>NaN</td>\n",
              "      <td>My students need a projector to help with view...</td>\n",
              "      <td>7</td>\n",
              "      <td>1</td>\n",
              "      <td>Civics_Government TeamSports</td>\n",
              "    </tr>\n",
              "  </tbody>\n",
              "</table>\n",
              "</div>"
            ],
            "text/plain": [
              "   Unnamed: 0       id                        teacher_id teacher_prefix  \\\n",
              "0      160221  p253737  c90749f5d961ff158d4b4d1e7dc665fc           Mrs.   \n",
              "1      140945  p258326  897464ce9ddc600bced1151f324dd63a            Mr.   \n",
              "\n",
              "  school_state project_submitted_datetime project_grade_category  \\\n",
              "0           IN        2016-12-05 13:43:57          Grades PreK-2   \n",
              "1           FL        2016-10-25 09:22:10             Grades 6-8   \n",
              "\n",
              "          project_subject_categories  \\\n",
              "0                Literacy & Language   \n",
              "1  History & Civics, Health & Sports   \n",
              "\n",
              "                                      project_title  \\\n",
              "0  Educational Support for English Learners at Home   \n",
              "1             Wanted: Projector for Hungry Learners   \n",
              "\n",
              "                                     project_essay_1  \\\n",
              "0  My students are English learners that are work...   \n",
              "1  Our students arrive to our school eager to lea...   \n",
              "\n",
              "                                     project_essay_2 project_essay_3  \\\n",
              "0  \\\"The limits of your language are the limits o...             NaN   \n",
              "1  The projector we need for our school is very c...             NaN   \n",
              "\n",
              "  project_essay_4                           project_resource_summary  \\\n",
              "0             NaN  My students need opportunities to practice beg...   \n",
              "1             NaN  My students need a projector to help with view...   \n",
              "\n",
              "   teacher_number_of_previously_posted_projects  project_is_approved  \\\n",
              "0                                             0                    0   \n",
              "1                                             7                    1   \n",
              "\n",
              "            clean_subcategories  \n",
              "0                  ESL Literacy  \n",
              "1  Civics_Government TeamSports  "
            ]
          },
          "metadata": {
            "tags": []
          },
          "execution_count": 9
        }
      ]
    },
    {
      "cell_type": "markdown",
      "metadata": {
        "id": "mediterranean-natural"
      },
      "source": [
        "# Project accepted as per clean_subcategories¶"
      ],
      "id": "mediterranean-natural"
    },
    {
      "cell_type": "code",
      "metadata": {
        "id": "apart-aquatic",
        "outputId": "85de976e-87c3-4259-a5ca-4999347843d5"
      },
      "source": [
        "#project_data.groupby(['clean_subcategories','project_is_approved'])['project_is_approved'].agg('count')\n",
        "temp = pd.DataFrame(project_data.groupby('clean_subcategories')['project_is_approved'].agg(lambda x: x.eq(1).sum())).reset_index()\n",
        "temp.head()"
      ],
      "id": "apart-aquatic",
      "execution_count": null,
      "outputs": [
        {
          "output_type": "execute_result",
          "data": {
            "text/html": [
              "<div>\n",
              "<style scoped>\n",
              "    .dataframe tbody tr th:only-of-type {\n",
              "        vertical-align: middle;\n",
              "    }\n",
              "\n",
              "    .dataframe tbody tr th {\n",
              "        vertical-align: top;\n",
              "    }\n",
              "\n",
              "    .dataframe thead th {\n",
              "        text-align: right;\n",
              "    }\n",
              "</style>\n",
              "<table border=\"1\" class=\"dataframe\">\n",
              "  <thead>\n",
              "    <tr style=\"text-align: right;\">\n",
              "      <th></th>\n",
              "      <th>clean_subcategories</th>\n",
              "      <th>project_is_approved</th>\n",
              "    </tr>\n",
              "  </thead>\n",
              "  <tbody>\n",
              "    <tr>\n",
              "      <th>0</th>\n",
              "      <td>AppliedSciences</td>\n",
              "      <td>2038</td>\n",
              "    </tr>\n",
              "    <tr>\n",
              "      <th>1</th>\n",
              "      <td>AppliedSciences CharacterEducation</td>\n",
              "      <td>44</td>\n",
              "    </tr>\n",
              "    <tr>\n",
              "      <th>2</th>\n",
              "      <td>AppliedSciences Civics_Government</td>\n",
              "      <td>12</td>\n",
              "    </tr>\n",
              "    <tr>\n",
              "      <th>3</th>\n",
              "      <td>AppliedSciences College_CareerPrep</td>\n",
              "      <td>330</td>\n",
              "    </tr>\n",
              "    <tr>\n",
              "      <th>4</th>\n",
              "      <td>AppliedSciences CommunityService</td>\n",
              "      <td>15</td>\n",
              "    </tr>\n",
              "  </tbody>\n",
              "</table>\n",
              "</div>"
            ],
            "text/plain": [
              "                  clean_subcategories  project_is_approved\n",
              "0                     AppliedSciences                 2038\n",
              "1  AppliedSciences CharacterEducation                   44\n",
              "2   AppliedSciences Civics_Government                   12\n",
              "3  AppliedSciences College_CareerPrep                  330\n",
              "4    AppliedSciences CommunityService                   15"
            ]
          },
          "metadata": {
            "tags": []
          },
          "execution_count": 69
        }
      ]
    },
    {
      "cell_type": "code",
      "metadata": {
        "id": "impossible-invasion",
        "outputId": "e266ed01-e464-40ee-85ec-06b9d9d4a55c"
      },
      "source": [
        "project_data.groupby(['clean_subcategories','project_is_approved'])['project_is_approved'].count()"
      ],
      "id": "impossible-invasion",
      "execution_count": null,
      "outputs": [
        {
          "output_type": "execute_result",
          "data": {
            "text/plain": [
              "clean_subcategories                 project_is_approved\n",
              "AppliedSciences                     0                       454\n",
              "                                    1                      2038\n",
              "AppliedSciences CharacterEducation  0                         9\n",
              "                                    1                        44\n",
              "AppliedSciences Civics_Government   0                         2\n",
              "                                                           ... \n",
              "VisualArts                          1                      1827\n",
              "VisualArts Warmth Care_Hunger       0                         1\n",
              "                                    1                         1\n",
              "Warmth Care_Hunger                  0                        97\n",
              "                                    1                      1212\n",
              "Name: project_is_approved, Length: 745, dtype: int64"
            ]
          },
          "metadata": {
            "tags": []
          },
          "execution_count": 53
        }
      ]
    },
    {
      "cell_type": "code",
      "metadata": {
        "id": "pediatric-basement",
        "outputId": "f92a8770-fcc0-4990-c752-fe02e353748e"
      },
      "source": [
        "from collections import Counter\n",
        "my_counter_sub = Counter()\n",
        "for word in project_data['clean_subcategories'].values:\n",
        "    my_counter_sub.update(word.split())\n",
        "print(my_counter_sub)"
      ],
      "id": "pediatric-basement",
      "execution_count": null,
      "outputs": [
        {
          "output_type": "stream",
          "text": [
            "Counter({'Literacy': 33700, 'Mathematics': 28074, 'Literature_Writing': 22179, 'SpecialNeeds': 13642, 'AppliedSciences': 10816, 'Health_Wellness': 10234, 'VisualArts': 6278, 'EnvironmentalScience': 5591, 'Gym_Fitness': 4509, 'ESL': 4367, 'EarlyDevelopment': 4254, 'Health_LifeScience': 4235, 'History_Geography': 3171, 'Music': 3145, 'College_CareerPrep': 2568, 'Other': 2372, 'TeamSports': 2192, 'CharacterEducation': 2065, 'PerformingArts': 1961, 'SocialSciences': 1920, 'Warmth': 1388, 'Care_Hunger': 1388, 'NutritionEducation': 1355, 'ForeignLanguages': 890, 'Civics_Government': 815, 'Extracurricular': 810, 'ParentInvolvement': 677, 'FinancialLiteracy': 568, 'CommunityService': 441, 'Economics': 269})\n"
          ],
          "name": "stdout"
        }
      ]
    },
    {
      "cell_type": "code",
      "metadata": {
        "id": "received-maker",
        "outputId": "d3b67dfb-c3a4-437f-bc70-9755d4c71b8e"
      },
      "source": [
        "my_counter_sub_sort = sorted(my_counter_sub,key=my_counter_sub.get)\n",
        "my_counter_sub_sort_dict=dict()\n",
        "\n",
        "for i in my_counter_sub_sort:\n",
        "    my_counter_sub_sort_dict[i] = my_counter_sub[i]\n",
        "\n",
        "i = np.arange(len(my_counter_sub_sort_dict))\n",
        "\n",
        "plt.figure(figsize=(20,5))\n",
        "p1 = plt.bar(i,list(my_counter_sub_sort_dict.values()))\n",
        "\n",
        "plt.ylabel('Projects')\n",
        "plt.title('% of projects aproved state wise')\n",
        "plt.xticks(i,list(my_counter_sub_sort_dict.keys()))\n",
        "plt.show()"
      ],
      "id": "received-maker",
      "execution_count": null,
      "outputs": [
        {
          "output_type": "display_data",
          "data": {
            "image/png": "[encoded data removed]",
            "text/plain": [
              "<Figure size 1440x360 with 1 Axes>"
            ]
          },
          "metadata": {
            "tags": [],
            "needs_background": "light"
          }
        }
      ]
    },
    {
      "cell_type": "markdown",
      "metadata": {
        "id": "demonstrated-restoration"
      },
      "source": [
        "# Project accepted as per project_title"
      ],
      "id": "demonstrated-restoration"
    },
    {
      "cell_type": "code",
      "metadata": {
        "id": "occupied-blackberry"
      },
      "source": [
        "approved_word_count = project_data[project_data['project_is_approved']==1]['project_title'].str.split().apply(len)\n",
        "approved_word_count = approved_word_count.values\n",
        "\n",
        "rejected_word_count = project_data[project_data['project_is_approved']==0]['project_title'].str.split().apply(len)\n",
        "rejected_word_count = rejected_word_count.values"
      ],
      "id": "occupied-blackberry",
      "execution_count": null,
      "outputs": []
    },
    {
      "cell_type": "code",
      "metadata": {
        "id": "violent-actor",
        "outputId": "92249f46-6c87-4cd6-bd78-519a9491304d"
      },
      "source": [
        "# https://glowingpython.blogspot.com/2012/09/boxplot-with-matplotlib.html\n",
        "plt.boxplot([approved_word_count, rejected_word_count])\n",
        "plt.xticks([1,2],('Approved Projects','Rejected Projects'))\n",
        "plt.ylabel('Words in project title')\n",
        "plt.grid()\n",
        "plt.show()"
      ],
      "id": "violent-actor",
      "execution_count": null,
      "outputs": [
        {
          "output_type": "display_data",
          "data": {
            "image/png": "[encoded data removed]",
            "text/plain": [
              "<Figure size 432x288 with 1 Axes>"
            ]
          },
          "metadata": {
            "tags": [],
            "needs_background": "light"
          }
        }
      ]
    },
    {
      "cell_type": "code",
      "metadata": {
        "id": "sound-doubt",
        "outputId": "7d99d74a-ea94-479e-c85b-faea8dbd2554"
      },
      "source": [
        "plt.figure(figsize=(10,3))\n",
        "sns.distplot(approved_word_count, hist=False, label=\"Approved Projects\")\n",
        "sns.distplot(rejected_word_count, hist=False, label=\"Not Approved Projects\")\n",
        "plt.legend()\n",
        "plt.show()"
      ],
      "id": "sound-doubt",
      "execution_count": null,
      "outputs": [
        {
          "output_type": "display_data",
          "data": {
            "image/png": "[encoded data removed]",
            "text/plain": [
              "<Figure size 720x216 with 1 Axes>"
            ]
          },
          "metadata": {
            "tags": [],
            "needs_background": "light"
          }
        }
      ]
    },
    {
      "cell_type": "markdown",
      "metadata": {
        "id": "ahead-worcester"
      },
      "source": [
        "# Project accepted as per project_essay"
      ],
      "id": "ahead-worcester"
    },
    {
      "cell_type": "code",
      "metadata": {
        "id": "focused-village"
      },
      "source": [
        "# merge two column text dataframe: \n",
        "project_data[\"essay\"] = project_data[\"project_essay_1\"].map(str) +\\\n",
        "                        project_data[\"project_essay_2\"].map(str) + \\\n",
        "                        project_data[\"project_essay_3\"].map(str) + \\\n",
        "                        project_data[\"project_essay_4\"].map(str)"
      ],
      "id": "focused-village",
      "execution_count": null,
      "outputs": []
    },
    {
      "cell_type": "code",
      "metadata": {
        "id": "impaired-distinction"
      },
      "source": [
        "approved_word_count = project_data[project_data['project_is_approved']==1]['essay'].str.split().apply(len)\n",
        "approved_word_count = approved_word_count.values\n",
        "\n",
        "rejected_word_count = project_data[project_data['project_is_approved']==0]['essay'].str.split().apply(len)\n",
        "rejected_word_count = rejected_word_count.values"
      ],
      "id": "impaired-distinction",
      "execution_count": null,
      "outputs": []
    },
    {
      "cell_type": "code",
      "metadata": {
        "id": "agreed-frontier",
        "outputId": "9ef6024b-5537-45f1-d2a0-6e04399017c7"
      },
      "source": [
        "# https://glowingpython.blogspot.com/2012/09/boxplot-with-matplotlib.html\n",
        "plt.boxplot([approved_word_count, rejected_word_count])\n",
        "plt.title('Words for each essay of the project')\n",
        "plt.xticks([1,2],('Approved Projects','Rejected Projects'))\n",
        "plt.ylabel('Words in project title')\n",
        "plt.grid()\n",
        "plt.show()"
      ],
      "id": "agreed-frontier",
      "execution_count": null,
      "outputs": [
        {
          "output_type": "display_data",
          "data": {
            "image/png": "[encoded data removed]",
            "text/plain": [
              "<Figure size 432x288 with 1 Axes>"
            ]
          },
          "metadata": {
            "tags": [],
            "needs_background": "light"
          }
        }
      ]
    },
    {
      "cell_type": "code",
      "metadata": {
        "id": "tropical-beaver",
        "outputId": "d13e22b4-df9f-401d-ee66-f86a40a16a70"
      },
      "source": [
        "plt.figure(figsize=(10,3))\n",
        "sns.distplot(approved_word_count, hist=False, label=\"Approved Projects\")\n",
        "sns.distplot(rejected_word_count, hist=False, label=\"Not Approved Projects\")\n",
        "plt.title('Words for each essay of the project')\n",
        "plt.xlabel('Number of words in each eassay')\n",
        "plt.legend()\n",
        "plt.show()"
      ],
      "id": "tropical-beaver",
      "execution_count": null,
      "outputs": [
        {
          "output_type": "display_data",
          "data": {
            "image/png": "[encoded data removed]",
            "text/plain": [
              "<Figure size 720x216 with 1 Axes>"
            ]
          },
          "metadata": {
            "tags": [],
            "needs_background": "light"
          }
        }
      ]
    },
    {
      "cell_type": "markdown",
      "metadata": {
        "id": "serial-share"
      },
      "source": [
        "# Cost per project"
      ],
      "id": "serial-share"
    },
    {
      "cell_type": "code",
      "metadata": {
        "id": "neither-colon",
        "outputId": "275fde01-79d9-43ff-ec03-cc3cce438bde"
      },
      "source": [
        "# https://stackoverflow.com/questions/22407798/how-to-reset-a-dataframes-indexes-for-all-groups-in-one-step\n",
        "price_data = resource_data.groupby('id').agg({'price':'sum', 'quantity':'sum'}).reset_index()\n",
        "price_data.head(2)"
      ],
      "id": "neither-colon",
      "execution_count": null,
      "outputs": [
        {
          "output_type": "execute_result",
          "data": {
            "text/html": [
              "<div>\n",
              "<style scoped>\n",
              "    .dataframe tbody tr th:only-of-type {\n",
              "        vertical-align: middle;\n",
              "    }\n",
              "\n",
              "    .dataframe tbody tr th {\n",
              "        vertical-align: top;\n",
              "    }\n",
              "\n",
              "    .dataframe thead th {\n",
              "        text-align: right;\n",
              "    }\n",
              "</style>\n",
              "<table border=\"1\" class=\"dataframe\">\n",
              "  <thead>\n",
              "    <tr style=\"text-align: right;\">\n",
              "      <th></th>\n",
              "      <th>id</th>\n",
              "      <th>price</th>\n",
              "      <th>quantity</th>\n",
              "    </tr>\n",
              "  </thead>\n",
              "  <tbody>\n",
              "    <tr>\n",
              "      <th>0</th>\n",
              "      <td>p000001</td>\n",
              "      <td>459.56</td>\n",
              "      <td>7</td>\n",
              "    </tr>\n",
              "    <tr>\n",
              "      <th>1</th>\n",
              "      <td>p000002</td>\n",
              "      <td>515.89</td>\n",
              "      <td>21</td>\n",
              "    </tr>\n",
              "  </tbody>\n",
              "</table>\n",
              "</div>"
            ],
            "text/plain": [
              "        id   price  quantity\n",
              "0  p000001  459.56         7\n",
              "1  p000002  515.89        21"
            ]
          },
          "metadata": {
            "tags": []
          },
          "execution_count": 63
        }
      ]
    },
    {
      "cell_type": "code",
      "metadata": {
        "id": "spanish-going"
      },
      "source": [
        "project_data = pd.merge(project_data, price_data, on='id', how='left')\n",
        "\n",
        "approved_price = project_data[project_data['project_is_approved']==1]['price'].values\n",
        "\n",
        "rejected_price = project_data[project_data['project_is_approved']==0]['price'].values"
      ],
      "id": "spanish-going",
      "execution_count": null,
      "outputs": []
    },
    {
      "cell_type": "code",
      "metadata": {
        "id": "controlling-member",
        "outputId": "f289a3f7-686d-4994-e539-a196fdd65dc4"
      },
      "source": [
        "# https://glowingpython.blogspot.com/2012/09/boxplot-with-matplotlib.html\n",
        "plt.boxplot([approved_price, rejected_price])\n",
        "plt.title('Box Plots of Cost per approved and not approved Projects')\n",
        "plt.xticks([1,2],('Approved Projects','Rejected Projects'))\n",
        "plt.ylabel('Words in project title')\n",
        "plt.grid()\n",
        "plt.show()"
      ],
      "id": "controlling-member",
      "execution_count": null,
      "outputs": [
        {
          "output_type": "display_data",
          "data": {
            "image/png": "[encoded data removed]",
            "text/plain": [
              "<Figure size 432x288 with 1 Axes>"
            ]
          },
          "metadata": {
            "tags": [],
            "needs_background": "light"
          }
        }
      ]
    },
    {
      "cell_type": "markdown",
      "metadata": {
        "id": "computational-space"
      },
      "source": [
        "# Project accepted as per teacher_number_of_previously_posted_projects"
      ],
      "id": "computational-space"
    },
    {
      "cell_type": "code",
      "metadata": {
        "id": "planned-adaptation",
        "outputId": "3490bcc8-272b-4c6d-aedb-b45a4f44be33"
      },
      "source": [
        "project_data.groupby(['teacher_number_of_previously_posted_projects','project_is_approved'])['project_is_approved'].count().unstack()"
      ],
      "id": "planned-adaptation",
      "execution_count": null,
      "outputs": [
        {
          "output_type": "execute_result",
          "data": {
            "text/html": [
              "<div>\n",
              "<style scoped>\n",
              "    .dataframe tbody tr th:only-of-type {\n",
              "        vertical-align: middle;\n",
              "    }\n",
              "\n",
              "    .dataframe tbody tr th {\n",
              "        vertical-align: top;\n",
              "    }\n",
              "\n",
              "    .dataframe thead th {\n",
              "        text-align: right;\n",
              "    }\n",
              "</style>\n",
              "<table border=\"1\" class=\"dataframe\">\n",
              "  <thead>\n",
              "    <tr style=\"text-align: right;\">\n",
              "      <th>project_is_approved</th>\n",
              "      <th>0</th>\n",
              "      <th>1</th>\n",
              "    </tr>\n",
              "    <tr>\n",
              "      <th>teacher_number_of_previously_posted_projects</th>\n",
              "      <th></th>\n",
              "      <th></th>\n",
              "    </tr>\n",
              "  </thead>\n",
              "  <tbody>\n",
              "    <tr>\n",
              "      <th>0</th>\n",
              "      <td>5362.0</td>\n",
              "      <td>24652.0</td>\n",
              "    </tr>\n",
              "    <tr>\n",
              "      <th>1</th>\n",
              "      <td>2729.0</td>\n",
              "      <td>13329.0</td>\n",
              "    </tr>\n",
              "    <tr>\n",
              "      <th>2</th>\n",
              "      <td>1645.0</td>\n",
              "      <td>8705.0</td>\n",
              "    </tr>\n",
              "    <tr>\n",
              "      <th>3</th>\n",
              "      <td>1113.0</td>\n",
              "      <td>5997.0</td>\n",
              "    </tr>\n",
              "    <tr>\n",
              "      <th>4</th>\n",
              "      <td>814.0</td>\n",
              "      <td>4452.0</td>\n",
              "    </tr>\n",
              "    <tr>\n",
              "      <th>...</th>\n",
              "      <td>...</td>\n",
              "      <td>...</td>\n",
              "    </tr>\n",
              "    <tr>\n",
              "      <th>428</th>\n",
              "      <td>NaN</td>\n",
              "      <td>1.0</td>\n",
              "    </tr>\n",
              "    <tr>\n",
              "      <th>432</th>\n",
              "      <td>NaN</td>\n",
              "      <td>1.0</td>\n",
              "    </tr>\n",
              "    <tr>\n",
              "      <th>433</th>\n",
              "      <td>NaN</td>\n",
              "      <td>1.0</td>\n",
              "    </tr>\n",
              "    <tr>\n",
              "      <th>437</th>\n",
              "      <td>NaN</td>\n",
              "      <td>1.0</td>\n",
              "    </tr>\n",
              "    <tr>\n",
              "      <th>451</th>\n",
              "      <td>NaN</td>\n",
              "      <td>1.0</td>\n",
              "    </tr>\n",
              "  </tbody>\n",
              "</table>\n",
              "<p>374 rows × 2 columns</p>\n",
              "</div>"
            ],
            "text/plain": [
              "project_is_approved                                0        1\n",
              "teacher_number_of_previously_posted_projects                 \n",
              "0                                             5362.0  24652.0\n",
              "1                                             2729.0  13329.0\n",
              "2                                             1645.0   8705.0\n",
              "3                                             1113.0   5997.0\n",
              "4                                              814.0   4452.0\n",
              "...                                              ...      ...\n",
              "428                                              NaN      1.0\n",
              "432                                              NaN      1.0\n",
              "433                                              NaN      1.0\n",
              "437                                              NaN      1.0\n",
              "451                                              NaN      1.0\n",
              "\n",
              "[374 rows x 2 columns]"
            ]
          },
          "metadata": {
            "tags": []
          },
          "execution_count": 68
        }
      ]
    },
    {
      "cell_type": "code",
      "metadata": {
        "id": "deluxe-packaging"
      },
      "source": [
        "approved_project = project_data[project_data['project_is_approved']==1]['teacher_number_of_previously_posted_projects'].values\n",
        "\n",
        "rejected_project = project_data[project_data['project_is_approved']==0]['teacher_number_of_previously_posted_projects'].values"
      ],
      "id": "deluxe-packaging",
      "execution_count": null,
      "outputs": []
    },
    {
      "cell_type": "code",
      "metadata": {
        "id": "indian-crime",
        "outputId": "e9ad24c2-23d4-4408-c5ea-3f88ecb0aac8"
      },
      "source": [
        "plt.figure(figsize=(10,3))\n",
        "sns.distplot(approved_project, hist=False, label=\"Approved Projects\")\n",
        "sns.distplot(rejected_project, hist=False, label=\"Not Approved Projects\")\n",
        "plt.title('Cost per approved and not approved Projects')\n",
        "plt.xlabel('Cost of a project')\n",
        "plt.legend()\n",
        "plt.show()"
      ],
      "id": "indian-crime",
      "execution_count": null,
      "outputs": [
        {
          "output_type": "display_data",
          "data": {
            "image/png": "[encoded data removed]",
            "text/plain": [
              "<Figure size 720x216 with 1 Axes>"
            ]
          },
          "metadata": {
            "tags": [],
            "needs_background": "light"
          }
        }
      ]
    }
  ]
}